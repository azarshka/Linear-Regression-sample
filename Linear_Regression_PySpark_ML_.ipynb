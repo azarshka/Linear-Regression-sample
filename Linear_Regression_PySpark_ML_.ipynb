{
  "nbformat": 4,
  "nbformat_minor": 0,
  "metadata": {
    "colab": {
      "provenance": []
    },
    "kernelspec": {
      "name": "python3",
      "display_name": "Python 3"
    },
    "language_info": {
      "name": "python"
    }
  },
  "cells": [
    {
      "cell_type": "markdown",
      "source": [
        "Linear Regression PySpark ML"
      ],
      "metadata": {
        "id": "xM2iWX7A9IvE"
      }
    },
    {
      "cell_type": "code",
      "source": [
        "from pyspark.sql import SparkSession\n",
        "from pyspark.ml.feature import VectorAssembler, StandardScaler\n",
        "from pyspark.ml.regression import LinearRegression\n",
        "from pyspark.ml.evaluation import RegressionEvaluator\n",
        "\n",
        "# Initialize SparkSession\n",
        "spark = SparkSession.builder \\\n",
        "                    .appName(\"LinearRegressionExample\") \\\n",
        "                    .master(\"local[*]\") \\\n",
        "                    .config(\"spark.executor.memory\", \"4g\") \\\n",
        "                    .config(\"spark.driver.memory\", \"2g\") \\\n",
        "                    .config(\"spark.executor.cores\", \"2\") \\\n",
        "                    .config(\"spark.sql.inMemoryColumnarStorage.compressed\", \"true\") \\\n",
        "                    .getOrCreate()\n",
        "\n",
        "spark"
      ],
      "metadata": {
        "colab": {
          "base_uri": "https://localhost:8080/",
          "height": 222
        },
        "id": "Aaw8SMu_9IPO",
        "outputId": "f4106c67-1e32-472c-e96d-86be43a8d579"
      },
      "execution_count": null,
      "outputs": [
        {
          "output_type": "execute_result",
          "data": {
            "text/plain": [
              "<pyspark.sql.session.SparkSession at 0x7eaab32b7040>"
            ],
            "text/html": [
              "\n",
              "            <div>\n",
              "                <p><b>SparkSession - in-memory</b></p>\n",
              "                \n",
              "        <div>\n",
              "            <p><b>SparkContext</b></p>\n",
              "\n",
              "            <p><a href=\"http://af7f41fdfb52:4040\">Spark UI</a></p>\n",
              "\n",
              "            <dl>\n",
              "              <dt>Version</dt>\n",
              "                <dd><code>v3.5.3</code></dd>\n",
              "              <dt>Master</dt>\n",
              "                <dd><code>local[*]</code></dd>\n",
              "              <dt>AppName</dt>\n",
              "                <dd><code>LinearRegressionExample</code></dd>\n",
              "            </dl>\n",
              "        </div>\n",
              "        \n",
              "            </div>\n",
              "        "
            ]
          },
          "metadata": {},
          "execution_count": 25
        }
      ]
    },
    {
      "cell_type": "code",
      "execution_count": null,
      "metadata": {
        "colab": {
          "base_uri": "https://localhost:8080/"
        },
        "id": "BQRRcHaQ89Dd",
        "outputId": "0ed23612-587b-4663-db81-67d7ed8e30a5"
      },
      "outputs": [
        {
          "output_type": "stream",
          "name": "stdout",
          "text": [
            "+--------------------+--------------------+--------------------+--------------------+--------------------+--------------------+--------------------+--------------------+--------------------+--------------------+------+\n",
            "|                 age|                 sex|                 bmi|                  bp|                  s1|                  s2|                  s3|                  s4|                  s5|                  s6|target|\n",
            "+--------------------+--------------------+--------------------+--------------------+--------------------+--------------------+--------------------+--------------------+--------------------+--------------------+------+\n",
            "|0.038075906433423026| 0.05068011873981862|0.061696206518683294|  0.0218723855140367|-0.04422349842444599|-0.03482076283769895|-0.04340084565202491|-0.00259226199818...|0.019907486170462722|-0.01764612515980379| 151.0|\n",
            "|-0.00188201652779...|-0.04464163650698...|-0.05147406123880...|-0.02632752814785296|-0.00844872411121...|-0.01916333974822...| 0.07441156407875721|-0.03949338287409329| -0.0683315470939731|  -0.092204049626824|  75.0|\n",
            "| 0.08529890629667548| 0.05068011873981862| 0.04445121333659049|-0.00567042229275739|-0.04559945128264711|-0.03419446591411989|-0.03235593223976409|-0.00259226199818...|0.002861309289833047|-0.02593033898947...| 141.0|\n",
            "| -0.0890629393522567|-0.04464163650698...|-0.01159501450521...|-0.03665608107540074| 0.01219056876179996| 0.02499059336410222|-0.03603757004385...| 0.03430885887772673|0.022687744966501246|-0.00936191133013...| 206.0|\n",
            "|0.005383060374248237|-0.04464163650698...|-0.03638469220446948|  0.0218723855140367|0.003934851612593237|0.015596139510416171|0.008142083605192267|-0.00259226199818...|-0.03198763948805312|-0.04664087356364498| 135.0|\n",
            "|-0.09269547780327612|-0.04464163650698...|-0.04069594049999...|-0.01944182619615...|-0.06899064987206617|-0.07928784441181291| 0.04127682384197474| -0.0763945037500033|-0.04117616691889...|-0.09634615654165846|  97.0|\n",
            "|-0.04547247794002...| 0.05068011873981862|-0.04716281294327...|-0.01599897522030...|-0.04009563984984263|-0.02480001206043385|7.788079970183853E-4|-0.03949338287409329|-0.06291687914365544|-0.03835665973397607| 138.0|\n",
            "| 0.06350367559055897| 0.05068011873981862|-0.00189470584028...|  0.0666294482000771| 0.09061988167926385| 0.10891438112369757|0.022868634821540033| 0.01770335448356722| -0.0358161925842373|0.003064409414368...|  63.0|\n",
            "| 0.04170844488444244| 0.05068011873981862|0.061696206518683294|   -0.04009893205125|-0.01395253554402...|0.006201685656730...|-0.02867429443567...|-0.00259226199818...|-0.01495969381264...|  0.0113486232440374| 110.0|\n",
            "|-0.07090024709715959|-0.04464163650698...|0.039062152967186486|-0.03321323009955148|-0.01257658268582...|-0.03450761437590...|-0.02499265663159...|-0.00259226199818...| 0.06773705306493534|-0.01350401824496...| 310.0|\n",
            "|-0.09632801625429555|-0.04464163650698...|-0.08380842345522464|0.008100981610639655|-0.10338947132709418|-0.09056118903623617|-0.01394774321932938| -0.0763945037500033|-0.06291687914365544|-0.03421455281914162| 101.0|\n",
            "|0.027178291080364757| 0.05068011873981862|  0.0175059114895705|-0.03321323009955148|-0.00707277125301...|0.045971540304001066|-0.06549067247654655| 0.07120997975363674|-0.09643494994048712|-0.05906719430814835|  69.0|\n",
            "|0.016280675727306498|-0.04464163650698...|-0.02884000768730...|-0.00911327326860...|-0.00432086553661...|-0.00976888589453...| 0.04495846164606168|-0.03949338287409329|-0.03074791753309...|-0.04249876664881...| 179.0|\n",
            "|0.005383060374248237| 0.05068011873981862|-0.00189470584028...|0.008100981610639655|-0.00432086553661...|-0.01571870666853...|-0.00290282980706...|-0.00259226199818...|0.038393928263466416|-0.01350401824496...| 185.0|\n",
            "| 0.04534098333546186|-0.04464163650698...|-0.02560657146566148|-0.01255612424445...|0.017694380194604446|-6.12835790605727...|  0.0817748396869311|-0.03949338287409329|-0.03198763948805312|-0.07563562196748617| 118.0|\n",
            "|-0.05273755484206...| 0.05068011873981862|-0.01806188694849...| 0.08040085210347414| 0.08924392882106273| 0.10766178727653941|-0.03971920784793797| 0.10811110062954676|0.036060333995316066|-0.04249876664881...| 171.0|\n",
            "|-0.00551455497881...|-0.04464163650698...|  0.0422955891888289|0.049415193320830796|0.024574144485610048|-0.02386056667506523| 0.07441156407875721|-0.03949338287409329| 0.05227699103843915|0.027917050903375224| 166.0|\n",
            "|  0.0707687524925978| 0.05068011873981862|0.012116851120166501|0.056300895272529315|  0.0342058144930179| 0.04941617338368593|-0.03971920784793797| 0.03430885887772673| 0.02736404910541198|-0.00107769750046...| 144.0|\n",
            "|-0.03820740103798481|-0.04464163650698...|-0.01051720243133...|-0.03665608107540074|-0.03734373413344...|-0.01947648821001...|-0.02867429443567...|-0.00259226199818...|-0.01811369231569...|-0.01764612515980379|  97.0|\n",
            "|-0.02730978568492...|-0.04464163650698...|-0.01806188694849...|   -0.04009893205125|-0.00294491267841...|-0.01133462820348...|  0.0375951860378878|-0.03949338287409329|-0.00894339609006817|-0.05492508739331389| 168.0|\n",
            "+--------------------+--------------------+--------------------+--------------------+--------------------+--------------------+--------------------+--------------------+--------------------+--------------------+------+\n",
            "only showing top 20 rows\n",
            "\n",
            "442\n",
            "1\n"
          ]
        }
      ],
      "source": [
        "df = spark.read.csv(\"/content/Diabetes.csv\", header=True, inferSchema=True)\n",
        "df.show()\n",
        "print(df.count())\n",
        "print(df.rdd.getNumPartitions())"
      ]
    },
    {
      "cell_type": "code",
      "source": [
        "df = df.repartition(4)\n",
        "df.rdd.getNumPartitions()"
      ],
      "metadata": {
        "id": "VleHhL_f_u8F",
        "colab": {
          "base_uri": "https://localhost:8080/"
        },
        "outputId": "aea4dd68-3bf8-4be5-fedb-69b279b088ec"
      },
      "execution_count": null,
      "outputs": [
        {
          "output_type": "execute_result",
          "data": {
            "text/plain": [
              "4"
            ]
          },
          "metadata": {},
          "execution_count": 27
        }
      ]
    },
    {
      "cell_type": "markdown",
      "source": [
        "\n",
        "StringIndexer"
      ],
      "metadata": {
        "id": "QIyWdR7N_xBJ"
      }
    },
    {
      "cell_type": "code",
      "source": [
        "# This step is only needed if I have string in my data. In this example, it is not needed this step.\n",
        "from pyspark.ml.feature import StringIndexer\n",
        "\n",
        "indexer = StringIndexer(inputCol = 'sex', outputCol = 'gender')\n",
        "\n",
        "df = indexer.fit(df).transform(df)\n",
        "\n",
        "df.show(10)"
      ],
      "metadata": {
        "id": "bMC04CfpC18J",
        "colab": {
          "base_uri": "https://localhost:8080/"
        },
        "outputId": "c60924b5-5a01-495a-e4cc-edb1565ba5cf"
      },
      "execution_count": null,
      "outputs": [
        {
          "output_type": "stream",
          "name": "stdout",
          "text": [
            "+--------------------+--------------------+--------------------+--------------------+--------------------+--------------------+--------------------+--------------------+--------------------+--------------------+------+------+\n",
            "|                 age|                 sex|                 bmi|                  bp|                  s1|                  s2|                  s3|                  s4|                  s5|                  s6|target|gender|\n",
            "+--------------------+--------------------+--------------------+--------------------+--------------------+--------------------+--------------------+--------------------+--------------------+--------------------+------+------+\n",
            "| 0.03081082953138418| 0.05068011873981862| 0.05954058237092167|0.056300895272529315|-0.02220825269322806|0.001191310268097...|-0.03235593223976409|-0.00259226199818...|-0.02479542902879...|-0.01764612515980379| 263.0|   1.0|\n",
            "|0.005383060374248237| 0.05068011873981862| 0.03475090467166331|-0.00109143049487...| 0.15253776029831428| 0.19878798965729408|-0.06180903467245962| 0.18523444326019867|0.015568459328120622| 0.07348022696655424|  84.0|   1.0|\n",
            "|0.016280675727306498|-0.04464163650698...|-0.04716281294327...|-0.00222757131690...|-0.01945634697682...|-0.04296262284422686|0.033913548233800855|-0.03949338287409329| 0.02736404910541198|0.027917050903375224| 200.0|   0.0|\n",
            "|0.016280675727306498|-0.04464163650698...|  0.0735521393313721|-0.04123507287328025|-0.00432086553661...|-0.01352666743601...|-0.01394774321932938|-0.00111621716314...| 0.04289703595278786|0.044485478562713045| 275.0|   0.0|\n",
            "|-0.03457486258696539| 0.05068011873981862|-0.02560657146566148|-0.01713511604233...|0.001182945896190995|-0.00287961973516...|0.008142083605192267|-0.01550765430475...|0.014820979914103668|0.040343371647878594|  74.0|   1.0|\n",
            "|-0.00188201652779...| 0.05068011873981862|0.030439656376140087|0.052858044296680055|0.039709625925822375|0.056618588004845226|-0.03971920784793797| 0.07120997975363674|0.025395078941660074|0.027917050903375224| 222.0|   1.0|\n",
            "|-0.04547247794002...|-0.04464163650698...|-0.04824062501715...|-0.01944182619615...|-1.93006962010125...|-0.01603185513032...| 0.06704828847058333|-0.03949338287409329|-0.02479542902879...|0.019632837073706312| 111.0|   0.0|\n",
            "|0.005383060374248237| 0.05068011873981862|  0.0175059114895705| 0.03220093844158448|  0.1277706088506941| 0.12739014036928015|-0.02131101882750326| 0.07120997975363674| 0.06257762198769659|0.015490730158871856| 139.0|   1.0|\n",
            "|-0.00188201652779...| 0.05068011873981862|-0.03315125598282...|-0.01830568537412...| 0.03145390877661565|0.042840055686105716|-0.01394774321932938|0.019917421736121838|0.010226716198682649|0.027917050903375224|  84.0|   1.0|\n",
            "| 0.04897352178648128|-0.04464163650698...|-0.04285156464775429|-0.05387033595464705|0.045213437358626866| 0.05004247030726501|0.033913548233800855|-0.00259226199818...|  -0.025953110560258| -0.0632093012229828|  64.0|   0.0|\n",
            "+--------------------+--------------------+--------------------+--------------------+--------------------+--------------------+--------------------+--------------------+--------------------+--------------------+------+------+\n",
            "only showing top 10 rows\n",
            "\n"
          ]
        }
      ]
    },
    {
      "cell_type": "markdown",
      "source": [
        "Vector Assembler"
      ],
      "metadata": {
        "id": "t3e23m90C770"
      }
    },
    {
      "cell_type": "code",
      "source": [
        "assembler = VectorAssembler(inputCols = [\"age\", \"gender\", \"bmi\",\"bp\",\"s1\",\"s2\",\"s3\",\"s4\",\"s5\",\"s6\"],\n",
        "                            outputCol = 'features')\n",
        "\n",
        "data = assembler.transform(df)\n",
        "\n",
        "data = data.select('features', 'target')\n",
        "data.show(5, truncate = False)"
      ],
      "metadata": {
        "id": "4llf0eojC4u3",
        "colab": {
          "base_uri": "https://localhost:8080/"
        },
        "outputId": "765279dc-5e5b-42c5-a221-0571e0a868d0"
      },
      "execution_count": null,
      "outputs": [
        {
          "output_type": "stream",
          "name": "stdout",
          "text": [
            "+------------------------------------------------------------------------------------------------------------------------------------------------------------------------------------------------------+------+\n",
            "|features                                                                                                                                                                                              |target|\n",
            "+------------------------------------------------------------------------------------------------------------------------------------------------------------------------------------------------------+------+\n",
            "|[0.03081082953138418,1.0,0.05954058237092167,0.056300895272529315,-0.02220825269322806,0.0011913102680975625,-0.03235593223976409,-0.002592261998183278,-0.024795429028792802,-0.01764612515980379]   |263.0 |\n",
            "|[0.005383060374248237,1.0,0.03475090467166331,-0.0010914304948778783,0.15253776029831428,0.19878798965729408,-0.06180903467245962,0.18523444326019867,0.015568459328120622,0.07348022696655424]       |84.0  |\n",
            "|[0.016280675727306498,0.0,-0.047162812943277475,-0.002227571316908129,-0.019456346976825818,-0.04296262284422686,0.033913548233800855,-0.03949338287409329,0.02736404910541198,0.027917050903375224]  |200.0 |\n",
            "|[0.016280675727306498,0.0,0.0735521393313721,-0.04123507287328025,-0.004320865536613489,-0.013526667436010586,-0.01394774321932938,-0.0011162171631468765,0.04289703595278786,0.044485478562713045]   |275.0 |\n",
            "|[-0.03457486258696539,1.0,-0.02560657146566148,-0.017135116042335426,0.001182945896190995,-0.0028796197351664047,0.008142083605192267,-0.015507654304751785,0.014820979914103668,0.040343371647878594]|74.0  |\n",
            "+------------------------------------------------------------------------------------------------------------------------------------------------------------------------------------------------------+------+\n",
            "only showing top 5 rows\n",
            "\n"
          ]
        }
      ]
    },
    {
      "cell_type": "markdown",
      "source": [
        "StandardScaler"
      ],
      "metadata": {
        "id": "Fc2HSAAbDBI5"
      }
    },
    {
      "cell_type": "code",
      "source": [
        "scaler = StandardScaler(inputCol = 'features', outputCol = 'scaledFeatures')\n",
        "#scaler = MinMaxScaler(inputCol = 'features', outputCol = 'scaledFeatures')\n",
        "\n",
        "scaler_model = scaler.fit(data) # compute the mean & std from data and store the necessary scaling parameters.\n",
        "data = scaler_model.transform(data) # scale the features of rhe sata using parameteres learned during fit() step\n",
        "\n",
        "data = data.select('scaledFeatures', 'target')\n",
        "data.show(5, truncate = False)"
      ],
      "metadata": {
        "id": "lYHwU5r-DCZz",
        "colab": {
          "base_uri": "https://localhost:8080/"
        },
        "outputId": "e560595c-79b7-4027-d88e-c006339bbad7"
      },
      "execution_count": null,
      "outputs": [
        {
          "output_type": "stream",
          "name": "stdout",
          "text": [
            "+-----------------------------------------------------------------------------------------------------------------------------------------------------------------------------------------------------+------+\n",
            "|scaledFeatures                                                                                                                                                                                       |target|\n",
            "+-----------------------------------------------------------------------------------------------------------------------------------------------------------------------------------------------------+------+\n",
            "|[0.6470274201590677,2.001756860182961,1.250352229789355,1.1823188007231162,-0.46637330655778964,0.0250175156300488,-0.6794745770350461,-0.054437501961848836,-0.5207040096046488,-0.3705686283558794]|263.0 |\n",
            "|[0.11304426785921295,2.001756860182961,0.7297689981049295,-0.022920040392435455,3.203292966264603,4.174547782803174,-1.2979897281216526,3.889923308464172,0.3269376458905331,1.5430847662976381]     |84.0  |\n",
            "|[0.34189419027343637,0.0,-0.9904190718088269,-0.04677899765507073,-0.4085832865133425,-0.9022150797287636,0.7121845129098182,-0.8293610403559591,0.5746450312136515,0.5862580689708794]              |200.0 |\n",
            "|[0.34189419027343637,0.0,1.544594925958814,-0.8659365303388857,-0.09073817626888335,-0.2840600161562222,-0.2929026076059171,-0.023440560426084407,0.9008377550085451,0.9341950498169734]             |275.0 |\n",
            "|[-0.726072114326273,2.001756860182961,-0.5377380007788911,-0.3598374368890441,0.024841863820010916,-0.06047201443849447,0.17098375570903768,-0.3256607403997875,0.311240578196177,0.8472108046054501]|74.0  |\n",
            "+-----------------------------------------------------------------------------------------------------------------------------------------------------------------------------------------------------+------+\n",
            "only showing top 5 rows\n",
            "\n"
          ]
        }
      ]
    },
    {
      "cell_type": "code",
      "source": [
        "# split data\n",
        "train_data, test_data = data.randomSplit([0.7, 0.3], seed = 42)\n",
        "train_data.show(5, truncate = False)"
      ],
      "metadata": {
        "id": "2PX2hpehDFKR",
        "colab": {
          "base_uri": "https://localhost:8080/"
        },
        "outputId": "30cc3beb-27bb-4d2f-ef32-9ec3d118ff0c"
      },
      "execution_count": null,
      "outputs": [
        {
          "output_type": "stream",
          "name": "stdout",
          "text": [
            "+---------------------------------------------------------------------------------------------------------------------------------------------------------------------------------------------------------+------+\n",
            "|scaledFeatures                                                                                                                                                                                           |target|\n",
            "+---------------------------------------------------------------------------------------------------------------------------------------------------------------------------------------------------------+------+\n",
            "|[-2.0991716488116134,0.0,-1.4204660892872656,-2.2880749829329408,-1.5643836874022852,-1.5269462609988855,0.32561254348068924,-0.8293610403559591,-1.0473214879847859,-0.19660013793283235]               |55.0  |\n",
            "|[-2.0991716488116134,0.0,-0.4924698936758978,-1.3481766665260921,-1.2176435671356023,-1.263901553095676,0.2482981495948635,-0.8293610403559591,-0.38038753862949676,-1.0664425900480676]                 |150.0 |\n",
            "|[-1.7177551114545746,2.001756860182961,0.8882073729654069,-0.40827835011924335,0.8339021444422706,1.2087187011944898,-1.452618515893304,2.270333113220482,0.991000180423682,-0.8054898544134971]         |137.0 |\n",
            "|[-1.6414718039831666,0.0,-0.3566655723669167,-0.26367860913357427,-0.004053146202212649,-0.2840600161562222,1.4853284517680763,-0.8293610403559591,-0.8646995052967983,-1.936285042163303]               |90.0  |\n",
            "|[-1.5651884965117588,2.001756860182961,-0.1982271975064393,0.3147203548091019,-0.7842184168022489,-0.45503907629330825,-0.2929026076059171,-0.054437501961848836,-0.6981574456127861,0.23832108812478528]|60.0  |\n",
            "+---------------------------------------------------------------------------------------------------------------------------------------------------------------------------------------------------------+------+\n",
            "only showing top 5 rows\n",
            "\n"
          ]
        }
      ]
    },
    {
      "cell_type": "markdown",
      "source": [
        "Apply linear regression model"
      ],
      "metadata": {
        "id": "7UM6jK3ADKv2"
      }
    },
    {
      "cell_type": "code",
      "source": [
        "lr = LinearRegression(labelCol = 'target', featuresCol = 'scaledFeatures', predictionCol = 'prediction')\n",
        "\n",
        "# Fit the model to the training data\n",
        "lr_model = lr.fit(train_data)\n",
        "\n",
        "# Make prediction on the test data\n",
        "lr_predictions = lr_model.transform(test_data)"
      ],
      "metadata": {
        "id": "Dow2jr0IDLgA"
      },
      "execution_count": null,
      "outputs": []
    },
    {
      "cell_type": "code",
      "source": [
        "ions = lr_model.transform(test_data)\n",
        "\n",
        "lr_predictions.select('prediction', 'target').show(10, truncate = False)"
      ],
      "metadata": {
        "id": "eYFTBI0FDPZm",
        "colab": {
          "base_uri": "https://localhost:8080/"
        },
        "outputId": "2f239d03-6360-433f-c401-2c4b1f38bb1f"
      },
      "execution_count": null,
      "outputs": [
        {
          "output_type": "stream",
          "name": "stdout",
          "text": [
            "+------------------+------+\n",
            "|prediction        |target|\n",
            "+------------------+------+\n",
            "|67.12110314601263 |200.0 |\n",
            "|192.7423586745321 |68.0  |\n",
            "|181.58426538411305|200.0 |\n",
            "|65.80594631152965 |104.0 |\n",
            "|33.29544431309452 |45.0  |\n",
            "|282.6992948134958 |243.0 |\n",
            "|158.430847415866  |200.0 |\n",
            "|127.63829493372486|214.0 |\n",
            "|88.99688473487011 |118.0 |\n",
            "|117.86081917496494|64.0  |\n",
            "+------------------+------+\n",
            "only showing top 10 rows\n",
            "\n"
          ]
        }
      ]
    },
    {
      "cell_type": "code",
      "source": [
        "# Access the coefficients and intecept of the model\n",
        "coefficients = lr_model.coefficients\n",
        "intercept = lr_model.intercept\n",
        "\n",
        "print(coefficients)\n",
        "print(intercept)"
      ],
      "metadata": {
        "id": "LdfW6NL2DZMb",
        "colab": {
          "base_uri": "https://localhost:8080/"
        },
        "outputId": "d39b7ac6-cba6-4891-9bf1-c8d14be10c33"
      },
      "execution_count": null,
      "outputs": [
        {
          "output_type": "stream",
          "name": "stdout",
          "text": [
            "[1.2214376408050633,-11.985375458124867,28.415632881896325,17.51561909802755,-51.16866117438874,30.06179259358891,14.582707069012333,13.8680345082736,40.79635410600757,0.5216358782017909]\n",
            "164.78843731752943\n"
          ]
        }
      ]
    },
    {
      "cell_type": "markdown",
      "source": [
        "Apply Lasso and Ridge regression models"
      ],
      "metadata": {
        "id": "CpfoYp4LDcEv"
      }
    },
    {
      "cell_type": "code",
      "source": [
        "# Laaso\n",
        "lasso = LinearRegression(labelCol = 'target', featuresCol = 'scaledFeatures',\n",
        "                         predictionCol = 'prediction', elasticNetParam = 1.0, regParam = 0.15) # lambda: tuning\n",
        "lasso_model = lasso.fit(train_data)\n",
        "lasso_predictions = lasso_model.transform(test_data)\n",
        "\n",
        "# Ridge\n",
        "ridge = LinearRegression(labelCol = 'target', featuresCol = 'scaledFeatures',\n",
        "                         predictionCol = 'prediction', elasticNetParam = 0.0, regParam = 0.15) # lambda: tuning\n",
        "ridge_model = ridge.fit(train_data)\n",
        "ridge_predictions = ridge_model.transform(test_data)"
      ],
      "metadata": {
        "id": "vJC1ZWqSDczs"
      },
      "execution_count": null,
      "outputs": []
    },
    {
      "cell_type": "code",
      "source": [
        "lasso_predictions.select('prediction', 'target').show(10, truncate = False)"
      ],
      "metadata": {
        "id": "nCnObjn8DkRR",
        "colab": {
          "base_uri": "https://localhost:8080/"
        },
        "outputId": "1468d033-f3ad-4854-f6a4-d9ede780c93c"
      },
      "execution_count": null,
      "outputs": [
        {
          "output_type": "stream",
          "name": "stdout",
          "text": [
            "+------------------+------+\n",
            "|prediction        |target|\n",
            "+------------------+------+\n",
            "|71.30744307647234 |200.0 |\n",
            "|192.70558974574553|68.0  |\n",
            "|185.62323331532   |200.0 |\n",
            "|64.82264987752184 |104.0 |\n",
            "|35.97282101201796 |45.0  |\n",
            "|282.7087447133871 |243.0 |\n",
            "|158.32414684098097|200.0 |\n",
            "|124.84870704287606|214.0 |\n",
            "|90.60911265351469 |118.0 |\n",
            "|114.47403210631154|64.0  |\n",
            "+------------------+------+\n",
            "only showing top 10 rows\n",
            "\n"
          ]
        }
      ]
    },
    {
      "cell_type": "markdown",
      "source": [
        "Evaluate the models and visualize the results"
      ],
      "metadata": {
        "id": "NL1a30nmDoNh"
      }
    },
    {
      "cell_type": "code",
      "source": [
        "evaluator_mse = RegressionEvaluator(labelCol = 'target', predictionCol = 'prediction', metricName = 'mse')\n",
        "# calculate MSE\n",
        "mse1 = evaluator_mse.evaluate(lr_predictions)\n",
        "mse2 = evaluator_mse.evaluate(lasso_predictions)\n",
        "mse3 = evaluator_mse.evaluate(ridge_predictions)\n",
        "\n",
        "evaluator_rmse = RegressionEvaluator(labelCol = 'target', predictionCol = 'prediction', metricName = 'rmse')\n",
        "# calculate RMSE\n",
        "rmse1 = evaluator_rmse.evaluate(lr_predictions)\n",
        "rmse2 = evaluator_rmse.evaluate(lasso_predictions)\n",
        "rmse3 = evaluator_rmse.evaluate(ridge_predictions)\n",
        "\n",
        "evaluator_r2 = RegressionEvaluator(labelCol = 'target', predictionCol = 'prediction', metricName = 'r2')\n",
        "# calculate R_squared\n",
        "r2_score1 = evaluator_r2.evaluate(lr_predictions)\n",
        "r2_score2 = evaluator_r2.evaluate(lasso_predictions)\n",
        "r2_score3 = evaluator_r2.evaluate(ridge_predictions)"
      ],
      "metadata": {
        "id": "Bs0OQplbDr8m"
      },
      "execution_count": null,
      "outputs": []
    },
    {
      "cell_type": "code",
      "source": [
        "# print the evaluation metrics\n",
        "print('Regression - MSE: ', mse1, ', RMSE: ', rmse1, ', R^2: ', r2_score1)\n",
        "print('Lasso - MSE: ', mse2, ', RMSE: ', rmse2, ', R^2: ', r2_score2)\n",
        "print('Ridge - MSE: ', mse3, ', RMSE: ', rmse3, ', R^2: ', r2_score3)"
      ],
      "metadata": {
        "id": "Ghj-hTqFDv-7",
        "colab": {
          "base_uri": "https://localhost:8080/"
        },
        "outputId": "1aed8c90-5298-43f6-9b07-6dec3bc40c94"
      },
      "execution_count": null,
      "outputs": [
        {
          "output_type": "stream",
          "name": "stdout",
          "text": [
            "Regression - MSE:  2946.620303289265 , RMSE:  54.28278090968871 , R^2:  0.39052179050136215\n",
            "Lasso - MSE:  2914.732843862849 , RMSE:  53.98826579788287 , R^2:  0.39711738466562474\n",
            "Ridge - MSE:  2934.3433756845902 , RMSE:  54.16957979977868 , R^2:  0.393061147148803\n"
          ]
        }
      ]
    },
    {
      "cell_type": "code",
      "source": [
        "\n",
        "# plot\n",
        "import matplotlib.pyplot as plt\n",
        "import numpy as np\n",
        "\n",
        "mse = [mse1, mse2, mse3]\n",
        "rmse = [rmse1, rmse2, rmse3]\n",
        "r2_score = [r2_score1, r2_score2, r2_score3]\n",
        "\n",
        "positions = np.arange(len(mse))\n",
        "bar_width = 0.2\n",
        "\n",
        "plt.bar(positions - bar_width, mse, width = bar_width, label = 'MSE')\n",
        "plt.bar(positions, rmse, width = bar_width, label = 'RMSE')\n",
        "plt.bar(positions + bar_width, r2_score, width = bar_width, label = 'R2_Score')\n",
        "\n",
        "# adding labels and title\n",
        "plt.xlabel('Model')\n",
        "plt.ylabel('Scores')\n",
        "plt.title('Comparison of Regression Metrics')\n",
        "\n",
        "# adding the legend\n",
        "plt.legend()\n",
        "plt.xticks(positions, ['Regression', 'Lasso', 'Ridge'])\n",
        "plt.show()"
      ],
      "metadata": {
        "id": "h4a9CYiJD1fh",
        "colab": {
          "base_uri": "https://localhost:8080/",
          "height": 472
        },
        "outputId": "eb5095a6-2cb4-4f75-ee57-a0ad2b79ed8d"
      },
      "execution_count": null,
      "outputs": [
        {
          "output_type": "display_data",
          "data": {
            "text/plain": [
              "<Figure size 640x480 with 1 Axes>"
            ],
            "image/png": "[encoded data removed]"
          },
          "metadata": {}
        }
      ]
    }
  ]
}