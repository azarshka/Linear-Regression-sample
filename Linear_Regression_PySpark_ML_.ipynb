{
  "nbformat": 4,
  "nbformat_minor": 0,
  "metadata": {
    "colab": {
      "provenance": []
    },
    "kernelspec": {
      "name": "python3",
      "display_name": "Python 3"
    },
    "language_info": {
      "name": "python"
    }
  },
  "cells": [
    {
      "cell_type": "markdown",
      "source": [
        "Linear Regression PySpark ML"
      ],
      "metadata": {
        "id": "xM2iWX7A9IvE"
      }
    },
    {
      "cell_type": "code",
      "source": [
        "from pyspark.sql import SparkSession\n",
        "from pyspark.ml.feature import VectorAssembler, StandardScaler\n",
        "from pyspark.ml.regression import LinearRegression\n",
        "from pyspark.ml.evaluation import RegressionEvaluator\n",
        "\n",
        "# Initialize SparkSession\n",
        "spark = SparkSession.builder \\\n",
        "                    .appName(\"LinearRegressionExample\") \\\n",
        "                    .master(\"local[*]\") \\\n",
        "                    .config(\"spark.executor.memory\", \"4g\") \\\n",
        "                    .config(\"spark.driver.memory\", \"2g\") \\\n",
        "                    .config(\"spark.executor.cores\", \"2\") \\\n",
        "                    .config(\"spark.sql.inMemoryColumnarStorage.compressed\", \"true\") \\\n",
        "                    .getOrCreate()\n",
        "\n",
        "spark"
      ],
      "metadata": {
        "colab": {
          "base_uri": "https://localhost:8080/",
          "height": 204
        },
        "id": "Aaw8SMu_9IPO",
        "outputId": "505cc8dd-4a5d-4798-de62-9c19f8509728"
      },
      "execution_count": 2,
      "outputs": [
        {
          "output_type": "execute_result",
          "data": {
            "text/plain": [
              "<pyspark.sql.session.SparkSession at 0x7b65d51eb070>"
            ],
            "text/html": [
              "\n",
              "            <div>\n",
              "                <p><b>SparkSession - in-memory</b></p>\n",
              "                \n",
              "        <div>\n",
              "            <p><b>SparkContext</b></p>\n",
              "\n",
              "            <p><a href=\"http://415c26352674:4040\">Spark UI</a></p>\n",
              "\n",
              "            <dl>\n",
              "              <dt>Version</dt>\n",
              "                <dd><code>v3.5.3</code></dd>\n",
              "              <dt>Master</dt>\n",
              "                <dd><code>local[*]</code></dd>\n",
              "              <dt>AppName</dt>\n",
              "                <dd><code>LinearRegressionExample</code></dd>\n",
              "            </dl>\n",
              "        </div>\n",
              "        \n",
              "            </div>\n",
              "        "
            ]
          },
          "metadata": {},
          "execution_count": 2
        }
      ]
    },
    {
      "cell_type": "code",
      "execution_count": 3,
      "metadata": {
        "colab": {
          "base_uri": "https://localhost:8080/"
        },
        "id": "BQRRcHaQ89Dd",
        "outputId": "925b91f3-e6be-4610-b0b1-04cba5089477"
      },
      "outputs": [
        {
          "output_type": "stream",
          "name": "stdout",
          "text": [
            "+---+-----------+-----------+-----------+------------+------+-----------+-----------------+---------------------------+\n",
            "| id|   hrv_mean|    hrv_std|hrv_entropy|  experiment|  Task|Temperature|Thermal sensation|Personal Thermal Assessment|\n",
            "+---+-----------+-----------+-----------+------------+------+-----------+-----------------+---------------------------+\n",
            "|  1|831.6831683|252.2799922|4.572689459|Experiment 8|Typing|         27|    slightly warm|                    neutral|\n",
            "|  1|834.5588235|252.6982997|4.582561852|Experiment 8|Typing|         27|    slightly warm|                    neutral|\n",
            "|  1|834.5588235|252.6982997|4.582561852|Experiment 8|Typing|         27|    slightly warm|                    neutral|\n",
            "|  1|834.4678218| 253.944537|4.572285578|Experiment 8|Typing|         27|    slightly warm|                    neutral|\n",
            "|  1|834.4678218| 253.944537|4.572285578|Experiment 8|Typing|         27|    slightly warm|                    neutral|\n",
            "|  1|834.4678218| 253.944537|4.572285578|Experiment 8|Typing|         27|    slightly warm|                    neutral|\n",
            "|  1|834.1584158|254.1613964|4.572180609|Experiment 8|Typing|         27|    slightly warm|                    neutral|\n",
            "|  1|834.1584158|254.1613964|4.572180609|Experiment 8|Typing|         27|    slightly warm|                    neutral|\n",
            "|  1|834.1584158|254.1613964|4.572180609|Experiment 8|Typing|         27|    slightly warm|                    neutral|\n",
            "|  1|837.0098039|254.5306924|4.582069698|Experiment 8|Typing|         27|    slightly warm|                    neutral|\n",
            "|  1|840.3465347|253.5580267|4.572908008|Experiment 8|Typing|         27|    slightly warm|                    neutral|\n",
            "|  1|840.3465347|253.5580267|4.572908008|Experiment 8|Typing|         27|    slightly warm|                    neutral|\n",
            "|  1|840.3465347|253.5580267|4.572908008|Experiment 8|Typing|         27|    slightly warm|                    neutral|\n",
            "|  1|842.9840686|253.7005667|4.582855257|Experiment 8|Typing|         27|    slightly warm|                    neutral|\n",
            "|  1|842.9840686|253.7005667|4.582855257|Experiment 8|Typing|         27|    slightly warm|                    neutral|\n",
            "|  1|837.7165842|249.3413576|4.574001336|Experiment 8|Typing|         27|    slightly warm|                    neutral|\n",
            "|  1|837.7165842|249.3413576|4.574001336|Experiment 8|Typing|         27|    slightly warm|                    neutral|\n",
            "|  1|840.8394608|250.0931428|4.583784377|Experiment 8|Typing|         27|    slightly warm|                    neutral|\n",
            "|  1|839.0473301|249.5334215|4.593601818|Experiment 8|Typing|         27|    slightly warm|                    neutral|\n",
            "|  1| 837.890625|248.6081626| 4.60349984|Experiment 8|Typing|         27|    slightly warm|                    neutral|\n",
            "+---+-----------+-----------+-----------+------------+------+-----------+-----------------+---------------------------+\n",
            "only showing top 20 rows\n",
            "\n",
            "81214\n",
            "2\n"
          ]
        }
      ],
      "source": [
        "df = spark.read.csv(\"/content/Diabetes.csv\", header=True, inferSchema=True)\n",
        "df.show()\n",
        "print(df.count())\n",
        "print(df.rdd.getNumPartitions())"
      ]
    },
    {
      "cell_type": "code",
      "source": [
        "df = df.repartition(4)\n",
        "df.rdd.getNumPartitions()"
      ],
      "metadata": {
        "id": "VleHhL_f_u8F"
      },
      "execution_count": null,
      "outputs": []
    },
    {
      "cell_type": "markdown",
      "source": [
        "\n",
        "StringIndexer"
      ],
      "metadata": {
        "id": "QIyWdR7N_xBJ"
      }
    },
    {
      "cell_type": "code",
      "source": [
        "from pyspark.ml.feature import StringIndexer\n",
        "\n",
        "indexer = StringIndexer(inputCol = 'sex', outputCol = 'gender')\n",
        "\n",
        "df = indexer.fit(df).transform(df)\n",
        "\n",
        "df.show(10)"
      ],
      "metadata": {
        "id": "bMC04CfpC18J"
      },
      "execution_count": null,
      "outputs": []
    },
    {
      "cell_type": "markdown",
      "source": [
        "Vector Assembler"
      ],
      "metadata": {
        "id": "t3e23m90C770"
      }
    },
    {
      "cell_type": "code",
      "source": [
        "assembler = VectorAssembler(inputCols = [\"age\", \"gender\", \"bmi\",\"bp\",\"tc\",\"ldl\",\"hdl\",\"tch\",\"ltg\",\"glu\"],\n",
        "                            outputCol = 'features')\n",
        "\n",
        "data = assembler.transform(df)\n",
        "\n",
        "data = data.select('features', 'progression')\n",
        "data.show(5, truncate = False)"
      ],
      "metadata": {
        "id": "4llf0eojC4u3"
      },
      "execution_count": null,
      "outputs": []
    },
    {
      "cell_type": "markdown",
      "source": [
        "StandardScaler"
      ],
      "metadata": {
        "id": "Fc2HSAAbDBI5"
      }
    },
    {
      "cell_type": "code",
      "source": [
        "scaler = StandardScaler(inputCol = 'features', outputCol = 'scaledFeatures')\n",
        "#scaler = MinMaxScaler(inputCol = 'features', outputCol = 'scaledFeatures')\n",
        "\n",
        "scaler_model = scaler.fit(data) # compute the mean & std from data and store the necessary scaling parameters.\n",
        "data = scaler_model.transform(data) # scale the features of rhe sata using parameteres learned during fit() step\n",
        "\n",
        "data = data.select('scaledFeatures', 'progression')\n",
        "data.show(5, truncate = False)"
      ],
      "metadata": {
        "id": "lYHwU5r-DCZz"
      },
      "execution_count": null,
      "outputs": []
    },
    {
      "cell_type": "code",
      "source": [
        "# split data\n",
        "train_data, test_data = data.randomSplit([0.7, 0.3], seed = 42)\n",
        "train_data.show(5, truncate = False)"
      ],
      "metadata": {
        "id": "2PX2hpehDFKR"
      },
      "execution_count": null,
      "outputs": []
    },
    {
      "cell_type": "markdown",
      "source": [
        "Apply linear regression model"
      ],
      "metadata": {
        "id": "7UM6jK3ADKv2"
      }
    },
    {
      "cell_type": "code",
      "source": [
        "lr = LinearRegression(labelCol = 'progression', featuresCol = 'scaledFeatures', predictionCol = 'prediction')\n",
        "\n",
        "# Fit the model to the training data\n",
        "lr_model = lr.fit(train_data)\n",
        "\n",
        "# Make prediction on the test data\n",
        "lr_predictions = lr_model.transform(test_data)"
      ],
      "metadata": {
        "id": "Dow2jr0IDLgA"
      },
      "execution_count": null,
      "outputs": []
    },
    {
      "cell_type": "code",
      "source": [
        "ions = lr_model.transform(test_data)\n",
        "\n",
        "lr_predictions.select('prediction', 'progression').show(10, truncate = False)"
      ],
      "metadata": {
        "id": "eYFTBI0FDPZm"
      },
      "execution_count": null,
      "outputs": []
    },
    {
      "cell_type": "code",
      "source": [
        "# Access the coefficients and intecept of the model\n",
        "coefficients = lr_model.coefficients\n",
        "intercept = lr_model.intercept\n",
        "\n",
        "print(coefficients)\n",
        "print(intercept)"
      ],
      "metadata": {
        "id": "LdfW6NL2DZMb"
      },
      "execution_count": null,
      "outputs": []
    },
    {
      "cell_type": "markdown",
      "source": [
        "Apply Lasso and Ridge regression models"
      ],
      "metadata": {
        "id": "CpfoYp4LDcEv"
      }
    },
    {
      "cell_type": "code",
      "source": [
        "# Laaso\n",
        "lasso = LinearRegression(labelCol = 'progression', featuresCol = 'scaledFeatures',\n",
        "                         predictionCol = 'prediction', elasticNetParam = 1.0, regParam = 0.15) # lambda: tuning\n",
        "lasso_model = lasso.fit(train_data)\n",
        "lasso_predictions = lasso_model.transform(test_data)\n",
        "\n",
        "# Ridge\n",
        "ridge = LinearRegression(labelCol = 'progression', featuresCol = 'scaledFeatures',\n",
        "                         predictionCol = 'prediction', elasticNetParam = 0.0, regParam = 0.15) # lambda: tuning\n",
        "ridge_model = ridge.fit(train_data)\n",
        "ridge_predictions = ridge_model.transform(test_data)"
      ],
      "metadata": {
        "id": "vJC1ZWqSDczs"
      },
      "execution_count": null,
      "outputs": []
    },
    {
      "cell_type": "code",
      "source": [
        "lasso_predictions.select('prediction', 'progression').show(10, truncate = False)"
      ],
      "metadata": {
        "id": "nCnObjn8DkRR"
      },
      "execution_count": null,
      "outputs": []
    },
    {
      "cell_type": "markdown",
      "source": [
        "Evaluate the models and visualize the results"
      ],
      "metadata": {
        "id": "NL1a30nmDoNh"
      }
    },
    {
      "cell_type": "code",
      "source": [
        "evaluator_mse = RegressionEvaluator(labelCol = 'progression', predictionCol = 'prediction', metricName = 'mse')\n",
        "# calculate MSE\n",
        "mse1 = evaluator_mse.evaluate(lr_predictions)\n",
        "mse2 = evaluator_mse.evaluate(lasso_predictions)\n",
        "mse3 = evaluator_mse.evaluate(ridge_predictions)\n",
        "\n",
        "evaluator_rmse = RegressionEvaluator(labelCol = 'progression', predictionCol = 'prediction', metricName = 'rmse')\n",
        "# calculate RMSE\n",
        "rmse1 = evaluator_rmse.evaluate(lr_predictions)\n",
        "rmse2 = evaluator_rmse.evaluate(lasso_predictions)\n",
        "rmse3 = evaluator_rmse.evaluate(ridge_predictions)\n",
        "\n",
        "evaluator_r2 = RegressionEvaluator(labelCol = 'progression', predictionCol = 'prediction', metricName = 'r2')\n",
        "# calculate R_squared\n",
        "r2_score1 = evaluator_r2.evaluate(lr_predictions)\n",
        "r2_score2 = evaluator_r2.evaluate(lasso_predictions)\n",
        "r2_score3 = evaluator_r2.evaluate(ridge_predictions)"
      ],
      "metadata": {
        "id": "Bs0OQplbDr8m"
      },
      "execution_count": null,
      "outputs": []
    },
    {
      "cell_type": "code",
      "source": [
        "# print the evaluation metrics\n",
        "print('Regression - MSE: ', mse1, ', RMSE: ', rmse1, ', R^2: ', r2_score1)\n",
        "print('Lasso - MSE: ', mse2, ', RMSE: ', rmse2, ', R^2: ', r2_score2)\n",
        "print('Ridge - MSE: ', mse3, ', RMSE: ', rmse3, ', R^2: ', r2_score3)"
      ],
      "metadata": {
        "id": "Ghj-hTqFDv-7"
      },
      "execution_count": null,
      "outputs": []
    },
    {
      "cell_type": "code",
      "source": [
        "\n",
        "# plot\n",
        "import matplotlib.pyplot as plt\n",
        "import numpy as np\n",
        "\n",
        "mse = [mse1, mse2, mse3]\n",
        "rmse = [rmse1, rmse2, rmse3]\n",
        "r2_score = [r2_score1, r2_score2, r2_score3]\n",
        "\n",
        "positions = np.arange(len(mse))\n",
        "bar_width = 0.2\n",
        "\n",
        "plt.bar(positions - bar_width, mse, width = bar_width, label = 'MSE')\n",
        "plt.bar(positions, rmse, width = bar_width, label = 'RMSE')\n",
        "plt.bar(positions + bar_width, r2_score, width = bar_width, label = 'R2_Score')\n",
        "\n",
        "# adding labels and title\n",
        "plt.xlabel('Model')\n",
        "plt.ylabel('Scores')\n",
        "plt.title('Comparison of Regression Metrics')\n",
        "\n",
        "# adding the legend\n",
        "plt.legend()\n",
        "plt.xticks(positions, ['Regression', 'Lasso', 'Ridge'])\n",
        "plt.show()"
      ],
      "metadata": {
        "id": "h4a9CYiJD1fh"
      },
      "execution_count": null,
      "outputs": []
    }
  ]
}