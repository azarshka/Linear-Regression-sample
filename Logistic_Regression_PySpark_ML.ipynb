{
  "nbformat": 4,
  "nbformat_minor": 0,
  "metadata": {
    "colab": {
      "provenance": [],
      "authorship_tag": "ABX9TyNCSEBUe9gU/p3+A39dAlRK",
      "include_colab_link": true
    },
    "kernelspec": {
      "name": "python3",
      "display_name": "Python 3"
    },
    "language_info": {
      "name": "python"
    }
  },
  "cells": [
    {
      "cell_type": "markdown",
      "metadata": {
        "id": "view-in-github",
        "colab_type": "text"
      },
      "source": [
        "<a href=\"https://colab.research.google.com/github/azarshka/Linear-Regression-sample/blob/main/Logistic_Regression_PySpark_ML.ipynb\" target=\"_parent\"><img src=\"https://colab.research.google.com/assets/colab-badge.svg\" alt=\"Open In Colab\"/></a>"
      ]
    },
    {
      "cell_type": "markdown",
      "source": [
        "Logistic Regression PySpark ML"
      ],
      "metadata": {
        "id": "lXUf_uqMQqMo"
      }
    },
    {
      "cell_type": "code",
      "source": [
        "!pip3 install pyspark"
      ],
      "metadata": {
        "colab": {
          "base_uri": "https://localhost:8080/"
        },
        "id": "57RkB2UCQpxx",
        "outputId": "dce804c5-d2cc-426f-9dcb-b52417efc92c"
      },
      "execution_count": 1,
      "outputs": [
        {
          "output_type": "stream",
          "name": "stdout",
          "text": [
            "Requirement already satisfied: pyspark in /usr/local/lib/python3.10/dist-packages (3.5.3)\n",
            "Requirement already satisfied: py4j==0.10.9.7 in /usr/local/lib/python3.10/dist-packages (from pyspark) (0.10.9.7)\n"
          ]
        }
      ]
    },
    {
      "cell_type": "code",
      "execution_count": 2,
      "metadata": {
        "colab": {
          "base_uri": "https://localhost:8080/",
          "height": 204
        },
        "id": "Y_08eMMlQnNg",
        "outputId": "923d0c30-09e1-4d50-debc-d409926d7beb"
      },
      "outputs": [
        {
          "output_type": "execute_result",
          "data": {
            "text/plain": [
              "<pyspark.sql.session.SparkSession at 0x7c38d73d11e0>"
            ],
            "text/html": [
              "\n",
              "            <div>\n",
              "                <p><b>SparkSession - in-memory</b></p>\n",
              "                \n",
              "        <div>\n",
              "            <p><b>SparkContext</b></p>\n",
              "\n",
              "            <p><a href=\"http://57574187894f:4040\">Spark UI</a></p>\n",
              "\n",
              "            <dl>\n",
              "              <dt>Version</dt>\n",
              "                <dd><code>v3.5.3</code></dd>\n",
              "              <dt>Master</dt>\n",
              "                <dd><code>local[*]</code></dd>\n",
              "              <dt>AppName</dt>\n",
              "                <dd><code>LogisticRegressionExample</code></dd>\n",
              "            </dl>\n",
              "        </div>\n",
              "        \n",
              "            </div>\n",
              "        "
            ]
          },
          "metadata": {},
          "execution_count": 2
        }
      ],
      "source": [
        "from pyspark.sql import SparkSession\n",
        "from pyspark.ml.feature import VectorAssembler, StandardScaler\n",
        "from pyspark.ml.classification import LogisticRegression\n",
        "\n",
        "# Initialize SparkSession\n",
        "spark = SparkSession.builder \\\n",
        "                    .appName(\"LogisticRegressionExample\") \\\n",
        "                    .master(\"local[*]\") \\\n",
        "                    .config(\"spark.executor.memory\", \"4g\") \\\n",
        "                    .config(\"spark.driver.memory\", \"2g\") \\\n",
        "                    .config(\"spark.executor.cores\", \"2\") \\\n",
        "                    .config(\"spark.sql.inMemoryColumnarStorage.compressed\", \"true\") \\\n",
        "                    .getOrCreate()\n",
        "\n",
        "spark"
      ]
    },
    {
      "cell_type": "code",
      "source": [
        "import gzip\n",
        "\n",
        "f = gzip.open('kddcup.data_10_percent.gz')\n",
        "f.close()"
      ],
      "metadata": {
        "id": "sa4GpKIbX_eg"
      },
      "execution_count": 3,
      "outputs": []
    },
    {
      "cell_type": "code",
      "source": [
        "df = spark.read.csv(\"/content/kddcup.data_10_percent.gz\", header = False)\n",
        "\n",
        "# Display the DataFrame\n",
        "df.show(5)\n",
        "\n",
        "# more info\n",
        "print(df.count())\n",
        "print(df.rdd.getNumPartitions())"
      ],
      "metadata": {
        "colab": {
          "base_uri": "https://localhost:8080/"
        },
        "id": "w97Ksc_9Q4Xt",
        "outputId": "2d353a5a-d332-494f-e311-ff73d7ca65f4"
      },
      "execution_count": 4,
      "outputs": [
        {
          "output_type": "stream",
          "name": "stdout",
          "text": [
            "+---+---+----+---+---+----+---+---+---+---+----+----+----+----+----+----+----+----+----+----+----+----+----+----+----+----+----+----+----+----+----+----+----+----+----+----+----+----+----+----+----+-------+\n",
            "|_c0|_c1| _c2|_c3|_c4| _c5|_c6|_c7|_c8|_c9|_c10|_c11|_c12|_c13|_c14|_c15|_c16|_c17|_c18|_c19|_c20|_c21|_c22|_c23|_c24|_c25|_c26|_c27|_c28|_c29|_c30|_c31|_c32|_c33|_c34|_c35|_c36|_c37|_c38|_c39|_c40|   _c41|\n",
            "+---+---+----+---+---+----+---+---+---+---+----+----+----+----+----+----+----+----+----+----+----+----+----+----+----+----+----+----+----+----+----+----+----+----+----+----+----+----+----+----+----+-------+\n",
            "|  0|tcp|http| SF|181|5450|  0|  0|  0|  0|   0|   1|   0|   0|   0|   0|   0|   0|   0|   0|   0|   0|   8|   8|0.00|0.00|0.00|0.00|1.00|0.00|0.00|   9|   9|1.00|0.00|0.11|0.00|0.00|0.00|0.00|0.00|normal.|\n",
            "|  0|tcp|http| SF|239| 486|  0|  0|  0|  0|   0|   1|   0|   0|   0|   0|   0|   0|   0|   0|   0|   0|   8|   8|0.00|0.00|0.00|0.00|1.00|0.00|0.00|  19|  19|1.00|0.00|0.05|0.00|0.00|0.00|0.00|0.00|normal.|\n",
            "|  0|tcp|http| SF|235|1337|  0|  0|  0|  0|   0|   1|   0|   0|   0|   0|   0|   0|   0|   0|   0|   0|   8|   8|0.00|0.00|0.00|0.00|1.00|0.00|0.00|  29|  29|1.00|0.00|0.03|0.00|0.00|0.00|0.00|0.00|normal.|\n",
            "|  0|tcp|http| SF|219|1337|  0|  0|  0|  0|   0|   1|   0|   0|   0|   0|   0|   0|   0|   0|   0|   0|   6|   6|0.00|0.00|0.00|0.00|1.00|0.00|0.00|  39|  39|1.00|0.00|0.03|0.00|0.00|0.00|0.00|0.00|normal.|\n",
            "|  0|tcp|http| SF|217|2032|  0|  0|  0|  0|   0|   1|   0|   0|   0|   0|   0|   0|   0|   0|   0|   0|   6|   6|0.00|0.00|0.00|0.00|1.00|0.00|0.00|  49|  49|1.00|0.00|0.02|0.00|0.00|0.00|0.00|0.00|normal.|\n",
            "+---+---+----+---+---+----+---+---+---+---+----+----+----+----+----+----+----+----+----+----+----+----+----+----+----+----+----+----+----+----+----+----+----+----+----+----+----+----+----+----+----+-------+\n",
            "only showing top 5 rows\n",
            "\n",
            "494021\n",
            "1\n"
          ]
        }
      ]
    },
    {
      "cell_type": "code",
      "source": [
        "# for the 10% of data:\n",
        "df = df.repartition(2)\n",
        "df.rdd.getNumPartitions()"
      ],
      "metadata": {
        "colab": {
          "base_uri": "https://localhost:8080/"
        },
        "id": "YlUkMlvRQ9GF",
        "outputId": "9bc6e940-89ee-40bc-8737-28dfde59615f"
      },
      "execution_count": 5,
      "outputs": [
        {
          "output_type": "execute_result",
          "data": {
            "text/plain": [
              "2"
            ]
          },
          "metadata": {},
          "execution_count": 5
        }
      ]
    },
    {
      "cell_type": "markdown",
      "source": [
        "\n",
        "Add header"
      ],
      "metadata": {
        "id": "W6y5bqQvQ_wx"
      }
    },
    {
      "cell_type": "code",
      "source": [
        "\n",
        "\n",
        "df = df.withColumnRenamed(\"_c0\",\"duration\") \\\n",
        "      .withColumnRenamed(\"_c1\",\"protocol_type\")\\\n",
        "      .withColumnRenamed(\"_c2\",\"service\")\\\n",
        "      .withColumnRenamed(\"_c3\",\"flag\")\\\n",
        "      .withColumnRenamed(\"_c4\",\"src_bytes\")\\\n",
        "      .withColumnRenamed(\"_c5\",\"dst_bytes\")\\\n",
        "      .withColumnRenamed(\"_c6\",\"land\")\\\n",
        "      .withColumnRenamed(\"_c7\",\"wrong_fragment\")\\\n",
        "      .withColumnRenamed(\"_c8\",\"urgent\")\\\n",
        "      .withColumnRenamed(\"_c9\",\"host\")\\\n",
        "      .withColumnRenamed(\"_c10\",\"num_failed_logins\")\\\n",
        "      .withColumnRenamed(\"_c11\",\"logged_in\")\\\n",
        "      .withColumnRenamed(\"_c12\",\"num_compromised\")\\\n",
        "      .withColumnRenamed(\"_c13\",\"root_shell\")\\\n",
        "      .withColumnRenamed(\"_c14\",\"su_attempted\")\\\n",
        "      .withColumnRenamed(\"_c15\",\"num_root\")\\\n",
        "      .withColumnRenamed(\"_c16\",\"num_file_creations\")\\\n",
        "      .withColumnRenamed(\"_c17\",\"num_shells\")\\\n",
        "      .withColumnRenamed(\"_c18\",\"num_access_files\")\\\n",
        "      .withColumnRenamed(\"_c19\",\"num_outbound_cmds\")\\\n",
        "      .withColumnRenamed(\"_c20\",\"is_host_login\")\\\n",
        "      .withColumnRenamed(\"_c21\",\"is_guest_login\")\\\n",
        "      .withColumnRenamed(\"_c22\",\"count\")\\\n",
        "      .withColumnRenamed(\"_c23\",\"srv_count\")\\\n",
        "      .withColumnRenamed(\"_c24\",\"serror_rate\")\\\n",
        "      .withColumnRenamed(\"_c25\",\"srv_serror_rate\")\\\n",
        "      .withColumnRenamed(\"_c26\",\"rerror_rate\")\\\n",
        "      .withColumnRenamed(\"_c27\",\"srv_rerror_rate\")\\\n",
        "      .withColumnRenamed(\"_c28\",\"same_srv_rate\")\\\n",
        "      .withColumnRenamed(\"_c29\",\"diff_srv_rate\")\\\n",
        "      .withColumnRenamed(\"_c30\",\"srv_diff_host_rate\")\\\n",
        "      .withColumnRenamed(\"_c31\",\"dst_host_count\")\\\n",
        "      .withColumnRenamed(\"_c32\",\"dst_host_srv_count\")\\\n",
        "      .withColumnRenamed(\"_c33\",\"dst_host_same_srv_rate\")\\\n",
        "      .withColumnRenamed(\"_c34\",\"dst_host_diff_srv_rate\")\\\n",
        "      .withColumnRenamed(\"_c35\",\"dst_host_same_src_port_rate\")\\\n",
        "      .withColumnRenamed(\"_c36\",\"dst_host_srv_diff_host_rate\")\\\n",
        "      .withColumnRenamed(\"_c37\",\"dst_host_serror_rate\")\\\n",
        "      .withColumnRenamed(\"_c38\",\"dst_host_srv_serror_rate\")\\\n",
        "      .withColumnRenamed(\"_c39\",\"dst_host_rerror_rate\")\\\n",
        "      .withColumnRenamed(\"_c40\",\"dst_host_srv_rerror_rate\")\\\n",
        "      .withColumnRenamed(\"_c41\",\"connection_status\")\n",
        "\n",
        "df.show(5)"
      ],
      "metadata": {
        "colab": {
          "base_uri": "https://localhost:8080/"
        },
        "id": "i5bvUnvvRAa0",
        "outputId": "0ca90a9a-71cd-4f6d-a69d-29087e655856"
      },
      "execution_count": 6,
      "outputs": [
        {
          "output_type": "stream",
          "name": "stdout",
          "text": [
            "+--------+-------------+--------+----+---------+---------+----+--------------+------+----+-----------------+---------+---------------+----------+------------+--------+------------------+----------+----------------+-----------------+-------------+--------------+-----+---------+-----------+---------------+-----------+---------------+-------------+-------------+------------------+--------------+------------------+----------------------+----------------------+---------------------------+---------------------------+--------------------+------------------------+--------------------+------------------------+-----------------+\n",
            "|duration|protocol_type| service|flag|src_bytes|dst_bytes|land|wrong_fragment|urgent|host|num_failed_logins|logged_in|num_compromised|root_shell|su_attempted|num_root|num_file_creations|num_shells|num_access_files|num_outbound_cmds|is_host_login|is_guest_login|count|srv_count|serror_rate|srv_serror_rate|rerror_rate|srv_rerror_rate|same_srv_rate|diff_srv_rate|srv_diff_host_rate|dst_host_count|dst_host_srv_count|dst_host_same_srv_rate|dst_host_diff_srv_rate|dst_host_same_src_port_rate|dst_host_srv_diff_host_rate|dst_host_serror_rate|dst_host_srv_serror_rate|dst_host_rerror_rate|dst_host_srv_rerror_rate|connection_status|\n",
            "+--------+-------------+--------+----+---------+---------+----+--------------+------+----+-----------------+---------+---------------+----------+------------+--------+------------------+----------+----------------+-----------------+-------------+--------------+-----+---------+-----------+---------------+-----------+---------------+-------------+-------------+------------------+--------------+------------------+----------------------+----------------------+---------------------------+---------------------------+--------------------+------------------------+--------------------+------------------------+-----------------+\n",
            "|       0|          tcp|ftp_data|  SF|     7233|        0|   0|             0|     0|   0|                0|        1|              0|         0|           0|       0|                 0|         0|               0|                0|            0|             0|    8|        4|       0.00|           0.00|       0.00|           0.00|         0.50|         0.38|              0.00|           255|                10|                  0.04|                  0.34|                       0.04|                       0.00|                0.00|                    0.00|                0.00|                    0.00|          normal.|\n",
            "|       0|          tcp| private| REJ|        0|        0|   0|             0|     0|   0|                0|        0|              0|         0|           0|       0|                 0|         0|               0|                0|            0|             0|  137|        4|       0.00|           0.00|       1.00|           1.00|         0.03|         0.06|              0.00|           255|                 4|                  0.02|                  0.05|                       0.00|                       0.00|                0.00|                    0.00|                1.00|                    1.00|         neptune.|\n",
            "|       0|         icmp|   ecr_i|  SF|     1032|        0|   0|             0|     0|   0|                0|        0|              0|         0|           0|       0|                 0|         0|               0|                0|            0|             0|  250|      250|       0.00|           0.00|       0.00|           0.00|         1.00|         0.00|              0.00|           255|               255|                  1.00|                  0.00|                       1.00|                       0.00|                0.00|                    0.00|                0.00|                    0.00|           smurf.|\n",
            "|       0|          tcp| private| REJ|        0|        0|   0|             0|     0|   0|                0|        0|              0|         0|           0|       0|                 0|         0|               0|                0|            0|             0|   61|       10|       0.00|           0.00|       1.00|           1.00|         0.16|         0.08|              0.00|           255|                10|                  0.04|                  0.06|                       0.00|                       0.00|                0.00|                    0.00|                1.00|                    1.00|         neptune.|\n",
            "|       0|          tcp|    http|  SF|      328|      535|   0|             0|     0|   0|                0|        1|              0|         0|           0|       0|                 0|         0|               0|                0|            0|             0|    6|        6|       0.00|           0.00|       0.00|           0.00|         1.00|         0.00|              0.00|           169|               255|                  1.00|                  0.00|                       0.01|                       0.03|                0.00|                    0.00|                0.00|                    0.00|          normal.|\n",
            "+--------+-------------+--------+----+---------+---------+----+--------------+------+----+-----------------+---------+---------------+----------+------------+--------+------------------+----------+----------------+-----------------+-------------+--------------+-----+---------+-----------+---------------+-----------+---------------+-------------+-------------+------------------+--------------+------------------+----------------------+----------------------+---------------------------+---------------------------+--------------------+------------------------+--------------------+------------------------+-----------------+\n",
            "only showing top 5 rows\n",
            "\n"
          ]
        }
      ]
    },
    {
      "cell_type": "markdown",
      "source": [
        "Check the Binary labels"
      ],
      "metadata": {
        "id": "OyGcFH9ZRJik"
      }
    },
    {
      "cell_type": "code",
      "source": [
        "df.select(\"connection_status\").distinct().show(15)"
      ],
      "metadata": {
        "colab": {
          "base_uri": "https://localhost:8080/"
        },
        "id": "5vBRsAarRHA4",
        "outputId": "9a6a13f5-87e4-446d-b66f-733b3a3173a6"
      },
      "execution_count": 7,
      "outputs": [
        {
          "output_type": "stream",
          "name": "stdout",
          "text": [
            "+-----------------+\n",
            "|connection_status|\n",
            "+-----------------+\n",
            "|     warezmaster.|\n",
            "|           smurf.|\n",
            "|             pod.|\n",
            "|            nmap.|\n",
            "|            imap.|\n",
            "|    guess_passwd.|\n",
            "|         ipsweep.|\n",
            "|       portsweep.|\n",
            "|           satan.|\n",
            "|            land.|\n",
            "|      loadmodule.|\n",
            "|       ftp_write.|\n",
            "| buffer_overflow.|\n",
            "|         rootkit.|\n",
            "|     warezclient.|\n",
            "+-----------------+\n",
            "only showing top 15 rows\n",
            "\n"
          ]
        }
      ]
    },
    {
      "cell_type": "code",
      "source": [
        "from pyspark.sql.functions import when\n",
        "\n",
        "df = df.withColumn(\"label\", when(df[\"connection_status\"] != 'normal.', 1).otherwise(0))\n",
        "\n",
        "df.select(\"label\").distinct().show()"
      ],
      "metadata": {
        "colab": {
          "base_uri": "https://localhost:8080/"
        },
        "id": "DxW_PWopRQmd",
        "outputId": "f399de6b-edc9-45e0-b53b-e50fa6a46547"
      },
      "execution_count": 8,
      "outputs": [
        {
          "output_type": "stream",
          "name": "stdout",
          "text": [
            "+-----+\n",
            "|label|\n",
            "+-----+\n",
            "|    1|\n",
            "|    0|\n",
            "+-----+\n",
            "\n"
          ]
        }
      ]
    },
    {
      "cell_type": "markdown",
      "source": [
        "Count the labels"
      ],
      "metadata": {
        "id": "esSD4zOiRUx9"
      }
    },
    {
      "cell_type": "code",
      "source": [
        "df.groupBy(\"label\").count().show()\n",
        "\n",
        "# ~20% normal traffic\n",
        "# ~80% attack traffic\n",
        "\n",
        "\n",
        "# dealing with imbalanced labels:\n",
        " # Resampling\n",
        " # Wieghted Loss\n",
        " # Data Augmentation: SMOTE method\n",
        " # Ensemble methods\n",
        " # Evaluation metrics: precision, recall, F1 socre, AUC-ROC"
      ],
      "metadata": {
        "colab": {
          "base_uri": "https://localhost:8080/"
        },
        "id": "PsJ02xVNRYXU",
        "outputId": "e1cfcdf3-3cac-4960-cf8c-e62a41b4e533"
      },
      "execution_count": 9,
      "outputs": [
        {
          "output_type": "stream",
          "name": "stdout",
          "text": [
            "+-----+------+\n",
            "|label| count|\n",
            "+-----+------+\n",
            "|    1|396743|\n",
            "|    0| 97278|\n",
            "+-----+------+\n",
            "\n"
          ]
        }
      ]
    },
    {
      "cell_type": "markdown",
      "source": [
        "\n",
        "StringIndexer"
      ],
      "metadata": {
        "id": "Jpzx6hxWReJw"
      }
    },
    {
      "cell_type": "code",
      "source": [
        "from pyspark.ml.feature import StringIndexer\n",
        "\n",
        "columns_to_index = [\"protocol_type\", \"service\", \"flag\"]\n",
        "\n",
        "for column in columns_to_index:\n",
        "  indexer = StringIndexer(inputCol = column, outputCol = column + \"_indexed\")\n",
        "  df = indexer.fit(df).transform(df)\n",
        "\n",
        "df.show(5)"
      ],
      "metadata": {
        "colab": {
          "base_uri": "https://localhost:8080/"
        },
        "id": "ASILyV5YRgqo",
        "outputId": "345e555b-69b6-4f35-ccfe-9fb5bb3ba324"
      },
      "execution_count": 10,
      "outputs": [
        {
          "output_type": "stream",
          "name": "stdout",
          "text": [
            "+--------+-------------+--------+----+---------+---------+----+--------------+------+----+-----------------+---------+---------------+----------+------------+--------+------------------+----------+----------------+-----------------+-------------+--------------+-----+---------+-----------+---------------+-----------+---------------+-------------+-------------+------------------+--------------+------------------+----------------------+----------------------+---------------------------+---------------------------+--------------------+------------------------+--------------------+------------------------+-----------------+-----+---------------------+---------------+------------+\n",
            "|duration|protocol_type| service|flag|src_bytes|dst_bytes|land|wrong_fragment|urgent|host|num_failed_logins|logged_in|num_compromised|root_shell|su_attempted|num_root|num_file_creations|num_shells|num_access_files|num_outbound_cmds|is_host_login|is_guest_login|count|srv_count|serror_rate|srv_serror_rate|rerror_rate|srv_rerror_rate|same_srv_rate|diff_srv_rate|srv_diff_host_rate|dst_host_count|dst_host_srv_count|dst_host_same_srv_rate|dst_host_diff_srv_rate|dst_host_same_src_port_rate|dst_host_srv_diff_host_rate|dst_host_serror_rate|dst_host_srv_serror_rate|dst_host_rerror_rate|dst_host_srv_rerror_rate|connection_status|label|protocol_type_indexed|service_indexed|flag_indexed|\n",
            "+--------+-------------+--------+----+---------+---------+----+--------------+------+----+-----------------+---------+---------------+----------+------------+--------+------------------+----------+----------------+-----------------+-------------+--------------+-----+---------+-----------+---------------+-----------+---------------+-------------+-------------+------------------+--------------+------------------+----------------------+----------------------+---------------------------+---------------------------+--------------------+------------------------+--------------------+------------------------+-----------------+-----+---------------------+---------------+------------+\n",
            "|       0|          tcp|ftp_data|  SF|     7233|        0|   0|             0|     0|   0|                0|        1|              0|         0|           0|       0|                 0|         0|               0|                0|            0|             0|    8|        4|       0.00|           0.00|       0.00|           0.00|         0.50|         0.38|              0.00|           255|                10|                  0.04|                  0.34|                       0.04|                       0.00|                0.00|                    0.00|                0.00|                    0.00|          normal.|    0|                  1.0|            6.0|         0.0|\n",
            "|       0|          tcp| private| REJ|        0|        0|   0|             0|     0|   0|                0|        0|              0|         0|           0|       0|                 0|         0|               0|                0|            0|             0|  137|        4|       0.00|           0.00|       1.00|           1.00|         0.03|         0.06|              0.00|           255|                 4|                  0.02|                  0.05|                       0.00|                       0.00|                0.00|                    0.00|                1.00|                    1.00|         neptune.|    1|                  1.0|            1.0|         2.0|\n",
            "|       0|         icmp|   ecr_i|  SF|     1032|        0|   0|             0|     0|   0|                0|        0|              0|         0|           0|       0|                 0|         0|               0|                0|            0|             0|  250|      250|       0.00|           0.00|       0.00|           0.00|         1.00|         0.00|              0.00|           255|               255|                  1.00|                  0.00|                       1.00|                       0.00|                0.00|                    0.00|                0.00|                    0.00|           smurf.|    1|                  0.0|            0.0|         0.0|\n",
            "|       0|          tcp| private| REJ|        0|        0|   0|             0|     0|   0|                0|        0|              0|         0|           0|       0|                 0|         0|               0|                0|            0|             0|   61|       10|       0.00|           0.00|       1.00|           1.00|         0.16|         0.08|              0.00|           255|                10|                  0.04|                  0.06|                       0.00|                       0.00|                0.00|                    0.00|                1.00|                    1.00|         neptune.|    1|                  1.0|            1.0|         2.0|\n",
            "|       0|          tcp|    http|  SF|      328|      535|   0|             0|     0|   0|                0|        1|              0|         0|           0|       0|                 0|         0|               0|                0|            0|             0|    6|        6|       0.00|           0.00|       0.00|           0.00|         1.00|         0.00|              0.00|           169|               255|                  1.00|                  0.00|                       0.01|                       0.03|                0.00|                    0.00|                0.00|                    0.00|          normal.|    0|                  1.0|            2.0|         0.0|\n",
            "+--------+-------------+--------+----+---------+---------+----+--------------+------+----+-----------------+---------+---------------+----------+------------+--------+------------------+----------+----------------+-----------------+-------------+--------------+-----+---------+-----------+---------------+-----------+---------------+-------------+-------------+------------------+--------------+------------------+----------------------+----------------------+---------------------------+---------------------------+--------------------+------------------------+--------------------+------------------------+-----------------+-----+---------------------+---------------+------------+\n",
            "only showing top 5 rows\n",
            "\n"
          ]
        }
      ]
    },
    {
      "cell_type": "markdown",
      "source": [
        "Missing values"
      ],
      "metadata": {
        "id": "SAMTfFJ5RjgF"
      }
    },
    {
      "cell_type": "code",
      "source": [
        "from pyspark.sql.functions import col, sum\n",
        "\n",
        "missing_values = df.select([sum(col(c).isNull().cast(\"int\")).alias(c) for c in df.columns])\n",
        "\n",
        "missing_values.show()"
      ],
      "metadata": {
        "colab": {
          "base_uri": "https://localhost:8080/"
        },
        "id": "x6rqtxJzRmSv",
        "outputId": "01f93e69-426e-403c-c237-36926d227c76"
      },
      "execution_count": 11,
      "outputs": [
        {
          "output_type": "stream",
          "name": "stdout",
          "text": [
            "+--------+-------------+-------+----+---------+---------+----+--------------+------+----+-----------------+---------+---------------+----------+------------+--------+------------------+----------+----------------+-----------------+-------------+--------------+-----+---------+-----------+---------------+-----------+---------------+-------------+-------------+------------------+--------------+------------------+----------------------+----------------------+---------------------------+---------------------------+--------------------+------------------------+--------------------+------------------------+-----------------+-----+---------------------+---------------+------------+\n",
            "|duration|protocol_type|service|flag|src_bytes|dst_bytes|land|wrong_fragment|urgent|host|num_failed_logins|logged_in|num_compromised|root_shell|su_attempted|num_root|num_file_creations|num_shells|num_access_files|num_outbound_cmds|is_host_login|is_guest_login|count|srv_count|serror_rate|srv_serror_rate|rerror_rate|srv_rerror_rate|same_srv_rate|diff_srv_rate|srv_diff_host_rate|dst_host_count|dst_host_srv_count|dst_host_same_srv_rate|dst_host_diff_srv_rate|dst_host_same_src_port_rate|dst_host_srv_diff_host_rate|dst_host_serror_rate|dst_host_srv_serror_rate|dst_host_rerror_rate|dst_host_srv_rerror_rate|connection_status|label|protocol_type_indexed|service_indexed|flag_indexed|\n",
            "+--------+-------------+-------+----+---------+---------+----+--------------+------+----+-----------------+---------+---------------+----------+------------+--------+------------------+----------+----------------+-----------------+-------------+--------------+-----+---------+-----------+---------------+-----------+---------------+-------------+-------------+------------------+--------------+------------------+----------------------+----------------------+---------------------------+---------------------------+--------------------+------------------------+--------------------+------------------------+-----------------+-----+---------------------+---------------+------------+\n",
            "|       0|            0|      0|   0|        0|        0|   0|             0|     0|   0|                0|        0|              0|         0|           0|       0|                 0|         0|               0|                0|            0|             0|    0|        0|          0|              0|          0|              0|            0|            0|                 0|             0|                 0|                     0|                     0|                          0|                          0|                   0|                       0|                   0|                       0|                0|    0|                    0|              0|           0|\n",
            "+--------+-------------+-------+----+---------+---------+----+--------------+------+----+-----------------+---------+---------------+----------+------------+--------+------------------+----------+----------------+-----------------+-------------+--------------+-----+---------+-----------+---------------+-----------+---------------+-------------+-------------+------------------+--------------+------------------+----------------------+----------------------+---------------------------+---------------------------+--------------------+------------------------+--------------------+------------------------+-----------------+-----+---------------------+---------------+------------+\n",
            "\n"
          ]
        }
      ]
    },
    {
      "cell_type": "markdown",
      "source": [
        "To assess the linear separability of a feature"
      ],
      "metadata": {
        "id": "8Yg4rETwRpAd"
      }
    },
    {
      "cell_type": "code",
      "source": [
        "from pyspark.sql.functions import avg, stddev\n",
        "\n",
        "# avg & std for class 0\n",
        "class_0_stats = df.filter(df['label'] == 0).select(avg('src_bytes').alias(\"avg_src_bytes_0\"),\n",
        "                                                   stddev('src_bytes').alias(\"stddev_src_bytes_0\")).first()\n",
        "\n",
        "# avg & std for class 1\n",
        "class_1_stats = df.filter(df['label'] == 1).select(avg('src_bytes').alias(\"avg_src_bytes_1\"),\n",
        "                                                   stddev('src_bytes').alias(\"stddev_src_bytes_1\")).first()\n",
        "\n",
        "\n",
        "print(\"Class 0 distribution: \")\n",
        "print(\"AVG src_bytes: \", class_0_stats[\"avg_src_bytes_0\"])\n",
        "print(\"STD src_bytes: \", class_0_stats[\"stddev_src_bytes_0\"])\n",
        "\n",
        "print(\"Class 1 distribution: \")\n",
        "print(\"AVG src_bytes: \", class_1_stats[\"avg_src_bytes_1\"])\n",
        "print(\"STD src_bytes: \", class_1_stats[\"stddev_src_bytes_1\"])"
      ],
      "metadata": {
        "colab": {
          "base_uri": "https://localhost:8080/"
        },
        "id": "Dks5nUavRtU6",
        "outputId": "1989b455-9388-4ce1-93cd-3b3367a99f19"
      },
      "execution_count": 12,
      "outputs": [
        {
          "output_type": "stream",
          "name": "stdout",
          "text": [
            "Class 0 distribution: \n",
            "AVG src_bytes:  1157.047523592179\n",
            "STD src_bytes:  34226.1247180511\n",
            "Class 1 distribution: \n",
            "AVG src_bytes:  3483.7659517622237\n",
            "STD src_bytes:  1102603.8255053805\n"
          ]
        }
      ]
    },
    {
      "cell_type": "markdown",
      "source": [
        "VectorAssembler"
      ],
      "metadata": {
        "id": "8HcEs68_RzjM"
      }
    },
    {
      "cell_type": "code",
      "source": [
        "df.printSchema()"
      ],
      "metadata": {
        "colab": {
          "base_uri": "https://localhost:8080/"
        },
        "id": "d-3vIaKERabr",
        "outputId": "efb96935-e820-4302-d1f7-7704a3977841"
      },
      "execution_count": 13,
      "outputs": [
        {
          "output_type": "stream",
          "name": "stdout",
          "text": [
            "root\n",
            " |-- duration: string (nullable = true)\n",
            " |-- protocol_type: string (nullable = true)\n",
            " |-- service: string (nullable = true)\n",
            " |-- flag: string (nullable = true)\n",
            " |-- src_bytes: string (nullable = true)\n",
            " |-- dst_bytes: string (nullable = true)\n",
            " |-- land: string (nullable = true)\n",
            " |-- wrong_fragment: string (nullable = true)\n",
            " |-- urgent: string (nullable = true)\n",
            " |-- host: string (nullable = true)\n",
            " |-- num_failed_logins: string (nullable = true)\n",
            " |-- logged_in: string (nullable = true)\n",
            " |-- num_compromised: string (nullable = true)\n",
            " |-- root_shell: string (nullable = true)\n",
            " |-- su_attempted: string (nullable = true)\n",
            " |-- num_root: string (nullable = true)\n",
            " |-- num_file_creations: string (nullable = true)\n",
            " |-- num_shells: string (nullable = true)\n",
            " |-- num_access_files: string (nullable = true)\n",
            " |-- num_outbound_cmds: string (nullable = true)\n",
            " |-- is_host_login: string (nullable = true)\n",
            " |-- is_guest_login: string (nullable = true)\n",
            " |-- count: string (nullable = true)\n",
            " |-- srv_count: string (nullable = true)\n",
            " |-- serror_rate: string (nullable = true)\n",
            " |-- srv_serror_rate: string (nullable = true)\n",
            " |-- rerror_rate: string (nullable = true)\n",
            " |-- srv_rerror_rate: string (nullable = true)\n",
            " |-- same_srv_rate: string (nullable = true)\n",
            " |-- diff_srv_rate: string (nullable = true)\n",
            " |-- srv_diff_host_rate: string (nullable = true)\n",
            " |-- dst_host_count: string (nullable = true)\n",
            " |-- dst_host_srv_count: string (nullable = true)\n",
            " |-- dst_host_same_srv_rate: string (nullable = true)\n",
            " |-- dst_host_diff_srv_rate: string (nullable = true)\n",
            " |-- dst_host_same_src_port_rate: string (nullable = true)\n",
            " |-- dst_host_srv_diff_host_rate: string (nullable = true)\n",
            " |-- dst_host_serror_rate: string (nullable = true)\n",
            " |-- dst_host_srv_serror_rate: string (nullable = true)\n",
            " |-- dst_host_rerror_rate: string (nullable = true)\n",
            " |-- dst_host_srv_rerror_rate: string (nullable = true)\n",
            " |-- connection_status: string (nullable = true)\n",
            " |-- label: integer (nullable = false)\n",
            " |-- protocol_type_indexed: double (nullable = false)\n",
            " |-- service_indexed: double (nullable = false)\n",
            " |-- flag_indexed: double (nullable = false)\n",
            "\n"
          ]
        }
      ]
    },
    {
      "cell_type": "code",
      "source": [
        "from pyspark.sql.functions import col\n",
        "\n",
        "for column in df.columns:\n",
        "  df = df.withColumn(column, col(column).cast(\"double\"))"
      ],
      "metadata": {
        "id": "L4qV6dO7R48T"
      },
      "execution_count": 14,
      "outputs": []
    },
    {
      "cell_type": "code",
      "source": [
        "df.printSchema()"
      ],
      "metadata": {
        "colab": {
          "base_uri": "https://localhost:8080/"
        },
        "id": "I4a5RkOBR7ON",
        "outputId": "1416b1d8-ca5a-43bf-d4bf-66272548f8b4"
      },
      "execution_count": 15,
      "outputs": [
        {
          "output_type": "stream",
          "name": "stdout",
          "text": [
            "root\n",
            " |-- duration: double (nullable = true)\n",
            " |-- protocol_type: double (nullable = true)\n",
            " |-- service: double (nullable = true)\n",
            " |-- flag: double (nullable = true)\n",
            " |-- src_bytes: double (nullable = true)\n",
            " |-- dst_bytes: double (nullable = true)\n",
            " |-- land: double (nullable = true)\n",
            " |-- wrong_fragment: double (nullable = true)\n",
            " |-- urgent: double (nullable = true)\n",
            " |-- host: double (nullable = true)\n",
            " |-- num_failed_logins: double (nullable = true)\n",
            " |-- logged_in: double (nullable = true)\n",
            " |-- num_compromised: double (nullable = true)\n",
            " |-- root_shell: double (nullable = true)\n",
            " |-- su_attempted: double (nullable = true)\n",
            " |-- num_root: double (nullable = true)\n",
            " |-- num_file_creations: double (nullable = true)\n",
            " |-- num_shells: double (nullable = true)\n",
            " |-- num_access_files: double (nullable = true)\n",
            " |-- num_outbound_cmds: double (nullable = true)\n",
            " |-- is_host_login: double (nullable = true)\n",
            " |-- is_guest_login: double (nullable = true)\n",
            " |-- count: double (nullable = true)\n",
            " |-- srv_count: double (nullable = true)\n",
            " |-- serror_rate: double (nullable = true)\n",
            " |-- srv_serror_rate: double (nullable = true)\n",
            " |-- rerror_rate: double (nullable = true)\n",
            " |-- srv_rerror_rate: double (nullable = true)\n",
            " |-- same_srv_rate: double (nullable = true)\n",
            " |-- diff_srv_rate: double (nullable = true)\n",
            " |-- srv_diff_host_rate: double (nullable = true)\n",
            " |-- dst_host_count: double (nullable = true)\n",
            " |-- dst_host_srv_count: double (nullable = true)\n",
            " |-- dst_host_same_srv_rate: double (nullable = true)\n",
            " |-- dst_host_diff_srv_rate: double (nullable = true)\n",
            " |-- dst_host_same_src_port_rate: double (nullable = true)\n",
            " |-- dst_host_srv_diff_host_rate: double (nullable = true)\n",
            " |-- dst_host_serror_rate: double (nullable = true)\n",
            " |-- dst_host_srv_serror_rate: double (nullable = true)\n",
            " |-- dst_host_rerror_rate: double (nullable = true)\n",
            " |-- dst_host_srv_rerror_rate: double (nullable = true)\n",
            " |-- connection_status: double (nullable = true)\n",
            " |-- label: double (nullable = false)\n",
            " |-- protocol_type_indexed: double (nullable = false)\n",
            " |-- service_indexed: double (nullable = false)\n",
            " |-- flag_indexed: double (nullable = false)\n",
            "\n"
          ]
        }
      ]
    },
    {
      "cell_type": "code",
      "source": [
        "assembler = VectorAssembler(inputCols = [\"src_bytes\", \"dst_bytes\", \"land\", \"wrong_fragment\", \"urgent\",\n",
        "                                         \"host\", \"num_failed_logins\", \"logged_in\", \"num_compromised\",\n",
        "                                         \"root_shell\", \"num_root\", \"num_file_creations\", \"num_shells\",\n",
        "                                         \"num_outbound_cmds\", \"is_host_login\", \"count\", \"srv_count\",\n",
        "                                         \"serror_rate\", \"srv_serror_rate\", \"rerror_rate\", \"srv_rerror_rate\",\n",
        "                                         \"same_srv_rate\", \"diff_srv_rate\", \"srv_diff_host_rate\",\n",
        "                                         \"dst_host_count\", \"dst_host_srv_count\", \"dst_host_same_srv_rate\",\n",
        "                                         \"dst_host_srv_rerror_rate\",\n",
        "                                         \"protocol_type_indexed\", \"service_indexed\", \"flag_indexed\"],\n",
        "                            outputCol = \"features\")\n",
        "\n",
        "data = assembler.transform(df)\n",
        "\n",
        "data = data.select('features', 'label')\n",
        "data.show(5)"
      ],
      "metadata": {
        "colab": {
          "base_uri": "https://localhost:8080/"
        },
        "id": "EfoJJLjDR-VU",
        "outputId": "b68e55ec-9eea-4778-f77a-897422c8e5aa"
      },
      "execution_count": 16,
      "outputs": [
        {
          "output_type": "stream",
          "name": "stdout",
          "text": [
            "+--------------------+-----+\n",
            "|            features|label|\n",
            "+--------------------+-----+\n",
            "|(31,[15,16,17,18,...|  1.0|\n",
            "|(31,[0,1,15,16,21...|  0.0|\n",
            "|(31,[0,7,15,16,21...|  0.0|\n",
            "|(31,[15,16,17,18,...|  1.0|\n",
            "|(31,[0,1,7,15,16,...|  0.0|\n",
            "+--------------------+-----+\n",
            "only showing top 5 rows\n",
            "\n"
          ]
        }
      ]
    },
    {
      "cell_type": "code",
      "source": [
        "data.show(5, truncate = False)\n",
        "\n",
        "#Sparse Vectors"
      ],
      "metadata": {
        "colab": {
          "base_uri": "https://localhost:8080/"
        },
        "id": "4KQTgp8QSAkb",
        "outputId": "35166734-db6e-41a7-e5fd-376be4450f8d"
      },
      "execution_count": 17,
      "outputs": [
        {
          "output_type": "stream",
          "name": "stdout",
          "text": [
            "+-----------------------------------------------------------------------------------------------------+-----+\n",
            "|features                                                                                             |label|\n",
            "+-----------------------------------------------------------------------------------------------------+-----+\n",
            "|(31,[15,16,17,18,21,22,24,25,26,28,29,30],[110.0,10.0,1.0,1.0,0.09,0.06,255.0,15.0,0.06,1.0,1.0,1.0])|1.0  |\n",
            "|(31,[0,1,15,16,21,23,24,25,26,28,29],[43.0,43.0,6.0,67.0,1.0,0.06,255.0,255.0,1.0,2.0,5.0])          |0.0  |\n",
            "|(31,[0,7,15,16,21,24,25,26,28,29],[12324.0,1.0,1.0,1.0,1.0,144.0,45.0,0.31,1.0,6.0])                 |0.0  |\n",
            "|(31,[15,16,17,18,21,22,24,25,26,28,29,30],[130.0,11.0,1.0,1.0,0.08,0.05,255.0,8.0,0.03,1.0,1.0,1.0]) |1.0  |\n",
            "|(31,[0,1,7,15,16,21,24,25,26,28,29],[304.0,357.0,1.0,25.0,25.0,1.0,103.0,255.0,1.0,1.0,2.0])         |0.0  |\n",
            "+-----------------------------------------------------------------------------------------------------+-----+\n",
            "only showing top 5 rows\n",
            "\n"
          ]
        }
      ]
    },
    {
      "cell_type": "code",
      "source": [
        "# Extract the values from Sparse Vectors to the list format\n",
        "selected_data = data.select('features').limit(2).collect()\n",
        "\n",
        "for row in selected_data:\n",
        "  dense_vector = row[0].toArray()\n",
        "  print(dense_vector)"
      ],
      "metadata": {
        "colab": {
          "base_uri": "https://localhost:8080/"
        },
        "id": "inOCZuKoSDEE",
        "outputId": "0e684a32-c34a-4446-ddba-e1131f85e6f3"
      },
      "execution_count": 18,
      "outputs": [
        {
          "output_type": "stream",
          "name": "stdout",
          "text": [
            "[  0.     0.     0.     0.     0.     0.     0.     0.     0.     0.\n",
            "   0.     0.     0.     0.     0.     1.     1.     0.     0.     1.\n",
            "   1.     1.     0.     0.    21.   255.     1.     0.39   1.     2.\n",
            "   2.  ]\n",
            "[832.   0.   0.   0.   0.   0.   0.   1.   0.   0.   0.   0.   0.   0.\n",
            "   0.   1.   1.   0.   0.   0.   0.   1.   0.   0.   3.  30.   1.   0.\n",
            "   1.   6.   0.]\n"
          ]
        }
      ]
    },
    {
      "cell_type": "markdown",
      "source": [
        "\n",
        "StandardScaler"
      ],
      "metadata": {
        "id": "K8X6Xv3USHQI"
      }
    },
    {
      "cell_type": "code",
      "source": [
        "scaler = StandardScaler(inputCol = 'features', outputCol = 'scaledFeatures')\n",
        "\n",
        "scaler_model = scaler.fit(data)\n",
        "data = scaler_model.transform(data)\n",
        "\n",
        "data = data.select(\"scaledFeatures\", \"label\")\n",
        "data.show(3, truncate = False)"
      ],
      "metadata": {
        "colab": {
          "base_uri": "https://localhost:8080/"
        },
        "id": "BY5FJTSCSG-0",
        "outputId": "97d2ca4f-b759-4d67-c2dc-e8a3120c6742"
      },
      "execution_count": 19,
      "outputs": [
        {
          "output_type": "stream",
          "name": "stdout",
          "text": [
            "+----------------------------------------------------------------------------------------------------------------------------------------------------------------------------------------------------------------------------------------------------------------------------------+-----+\n",
            "|scaledFeatures                                                                                                                                                                                                                                                                    |label|\n",
            "+----------------------------------------------------------------------------------------------------------------------------------------------------------------------------------------------------------------------------------------------------------------------------------+-----+\n",
            "|(31,[15,16,17,18,21,22,24,25,26,28,29,30],[0.5160747620652872,0.04059713227290855,2.6266232258670694,2.6245576721666946,0.23184553320898044,0.729878234228922,3.938504933232327,0.14145547123294433,0.14606323879903946,1.7373009114385642,0.2532109796388444,1.6738531643635715])|1.0  |\n",
            "|(31,[0,1,15,16,21,23,24,25,26,28,29],[4.3512661784169476E-5,0.001301452735183034,0.028149532476288396,0.2720007862284873,2.5760614800997828,0.4213558095914118,3.938504933232327,2.404743010960053,2.434387313317324,3.4746018228771285,1.2660548981942221])                      |0.0  |\n",
            "|(31,[0,7,15,16,21,24,25,26,28,29],[0.012470931251816387,2.814168444874875,0.004691588746048066,0.004059713227290855,2.5760614800997828,2.2240969034723728,0.42436641369883293,0.7546600671283705,1.7373009114385642,1.5192658778330665])                                          |0.0  |\n",
            "+----------------------------------------------------------------------------------------------------------------------------------------------------------------------------------------------------------------------------------------------------------------------------------+-----+\n",
            "only showing top 3 rows\n",
            "\n"
          ]
        }
      ]
    },
    {
      "cell_type": "code",
      "source": [
        "#Split data\n",
        "train_data, test_data = data.randomSplit([0.7, 0.3], seed = 1234)"
      ],
      "metadata": {
        "id": "nEs6wIYxZlUq"
      },
      "execution_count": 21,
      "outputs": []
    },
    {
      "cell_type": "markdown",
      "source": [
        "Apply Logistic Regression model"
      ],
      "metadata": {
        "id": "cJqzhlHlSQd0"
      }
    },
    {
      "cell_type": "code",
      "source": [
        "lr = LogisticRegression(featuresCol = \"scaledFeatures\", labelCol = 'label',\n",
        "                        threshold = 0.5, regParam = 0.01)\n",
        "\n",
        "lr_model = lr.fit(train_data)\n",
        "\n",
        "lr_predictions_train = lr_model.transform(train_data)\n",
        "lr_predictions_test = lr_model.transform(test_data)"
      ],
      "metadata": {
        "id": "g5KikPPDSSlh"
      },
      "execution_count": 22,
      "outputs": []
    },
    {
      "cell_type": "code",
      "source": [
        "lr_predictions_test.select(\"label\", \"prediction\").show(10)"
      ],
      "metadata": {
        "colab": {
          "base_uri": "https://localhost:8080/"
        },
        "id": "hESVm6doSWcP",
        "outputId": "9523b577-54da-4a26-bdd8-c0ef4d617368"
      },
      "execution_count": 23,
      "outputs": [
        {
          "output_type": "stream",
          "name": "stdout",
          "text": [
            "+-----+----------+\n",
            "|label|prediction|\n",
            "+-----+----------+\n",
            "|  1.0|       1.0|\n",
            "|  1.0|       1.0|\n",
            "|  1.0|       1.0|\n",
            "|  1.0|       1.0|\n",
            "|  1.0|       1.0|\n",
            "|  1.0|       1.0|\n",
            "|  1.0|       1.0|\n",
            "|  1.0|       1.0|\n",
            "|  1.0|       1.0|\n",
            "|  1.0|       1.0|\n",
            "+-----+----------+\n",
            "only showing top 10 rows\n",
            "\n"
          ]
        }
      ]
    },
    {
      "cell_type": "markdown",
      "source": [
        "**Evaluate the model**"
      ],
      "metadata": {
        "id": "wMM4xlwlSdyt"
      }
    },
    {
      "cell_type": "markdown",
      "source": [
        "\n",
        "Confusion Matrix"
      ],
      "metadata": {
        "id": "R1fYdmecSf3J"
      }
    },
    {
      "cell_type": "code",
      "source": [
        "confusion_matrix = lr_predictions_test.groupBy(\"label\", \"prediction\").count()\n",
        "confusion_matrix.show()"
      ],
      "metadata": {
        "colab": {
          "base_uri": "https://localhost:8080/"
        },
        "id": "DmL82_AHSbFU",
        "outputId": "b50e4c0f-e775-4413-916d-36a05e439bf8"
      },
      "execution_count": 24,
      "outputs": [
        {
          "output_type": "stream",
          "name": "stdout",
          "text": [
            "+-----+----------+------+\n",
            "|label|prediction| count|\n",
            "+-----+----------+------+\n",
            "|  1.0|       1.0|116916|\n",
            "|  0.0|       1.0|   458|\n",
            "|  1.0|       0.0|  1324|\n",
            "|  0.0|       0.0| 28905|\n",
            "+-----+----------+------+\n",
            "\n"
          ]
        }
      ]
    },
    {
      "cell_type": "code",
      "source": [
        "cm_pandas = confusion_matrix.toPandas()\n",
        "cm_pandas.pivot(index = 'label', columns = 'prediction', values = 'count')"
      ],
      "metadata": {
        "colab": {
          "base_uri": "https://localhost:8080/",
          "height": 131
        },
        "id": "bt-c_8RnSsEw",
        "outputId": "7faa820c-066f-494d-d48d-7439ebe4f67a"
      },
      "execution_count": 25,
      "outputs": [
        {
          "output_type": "execute_result",
          "data": {
            "text/plain": [
              "prediction    0.0     1.0\n",
              "label                    \n",
              "0.0         28905     458\n",
              "1.0          1324  116916"
            ],
            "text/html": [
              "\n",
              "  <div id=\"df-302dbfb9-12af-4a5a-88d3-2bd1392659cd\" class=\"colab-df-container\">\n",
              "    <div>\n",
              "<style scoped>\n",
              "    .dataframe tbody tr th:only-of-type {\n",
              "        vertical-align: middle;\n",
              "    }\n",
              "\n",
              "    .dataframe tbody tr th {\n",
              "        vertical-align: top;\n",
              "    }\n",
              "\n",
              "    .dataframe thead th {\n",
              "        text-align: right;\n",
              "    }\n",
              "</style>\n",
              "<table border=\"1\" class=\"dataframe\">\n",
              "  <thead>\n",
              "    <tr style=\"text-align: right;\">\n",
              "      <th>prediction</th>\n",
              "      <th>0.0</th>\n",
              "      <th>1.0</th>\n",
              "    </tr>\n",
              "    <tr>\n",
              "      <th>label</th>\n",
              "      <th></th>\n",
              "      <th></th>\n",
              "    </tr>\n",
              "  </thead>\n",
              "  <tbody>\n",
              "    <tr>\n",
              "      <th>0.0</th>\n",
              "      <td>28905</td>\n",
              "      <td>458</td>\n",
              "    </tr>\n",
              "    <tr>\n",
              "      <th>1.0</th>\n",
              "      <td>1324</td>\n",
              "      <td>116916</td>\n",
              "    </tr>\n",
              "  </tbody>\n",
              "</table>\n",
              "</div>\n",
              "    <div class=\"colab-df-buttons\">\n",
              "\n",
              "  <div class=\"colab-df-container\">\n",
              "    <button class=\"colab-df-convert\" onclick=\"convertToInteractive('df-302dbfb9-12af-4a5a-88d3-2bd1392659cd')\"\n",
              "            title=\"Convert this dataframe to an interactive table.\"\n",
              "            style=\"display:none;\">\n",
              "\n",
              "  <svg xmlns=\"http://www.w3.org/2000/svg\" height=\"24px\" viewBox=\"0 -960 960 960\">\n",
              "    <path d=\"M120-120v-720h720v720H120Zm60-500h600v-160H180v160Zm220 220h160v-160H400v160Zm0 220h160v-160H400v160ZM180-400h160v-160H180v160Zm440 0h160v-160H620v160ZM180-180h160v-160H180v160Zm440 0h160v-160H620v160Z\"/>\n",
              "  </svg>\n",
              "    </button>\n",
              "\n",
              "  <style>\n",
              "    .colab-df-container {\n",
              "      display:flex;\n",
              "      gap: 12px;\n",
              "    }\n",
              "\n",
              "    .colab-df-convert {\n",
              "      background-color: #E8F0FE;\n",
              "      border: none;\n",
              "      border-radius: 50%;\n",
              "      cursor: pointer;\n",
              "      display: none;\n",
              "      fill: #1967D2;\n",
              "      height: 32px;\n",
              "      padding: 0 0 0 0;\n",
              "      width: 32px;\n",
              "    }\n",
              "\n",
              "    .colab-df-convert:hover {\n",
              "      background-color: #E2EBFA;\n",
              "      box-shadow: 0px 1px 2px rgba(60, 64, 67, 0.3), 0px 1px 3px 1px rgba(60, 64, 67, 0.15);\n",
              "      fill: #174EA6;\n",
              "    }\n",
              "\n",
              "    .colab-df-buttons div {\n",
              "      margin-bottom: 4px;\n",
              "    }\n",
              "\n",
              "    [theme=dark] .colab-df-convert {\n",
              "      background-color: #3B4455;\n",
              "      fill: #D2E3FC;\n",
              "    }\n",
              "\n",
              "    [theme=dark] .colab-df-convert:hover {\n",
              "      background-color: #434B5C;\n",
              "      box-shadow: 0px 1px 3px 1px rgba(0, 0, 0, 0.15);\n",
              "      filter: drop-shadow(0px 1px 2px rgba(0, 0, 0, 0.3));\n",
              "      fill: #FFFFFF;\n",
              "    }\n",
              "  </style>\n",
              "\n",
              "    <script>\n",
              "      const buttonEl =\n",
              "        document.querySelector('#df-302dbfb9-12af-4a5a-88d3-2bd1392659cd button.colab-df-convert');\n",
              "      buttonEl.style.display =\n",
              "        google.colab.kernel.accessAllowed ? 'block' : 'none';\n",
              "\n",
              "      async function convertToInteractive(key) {\n",
              "        const element = document.querySelector('#df-302dbfb9-12af-4a5a-88d3-2bd1392659cd');\n",
              "        const dataTable =\n",
              "          await google.colab.kernel.invokeFunction('convertToInteractive',\n",
              "                                                    [key], {});\n",
              "        if (!dataTable) return;\n",
              "\n",
              "        const docLinkHtml = 'Like what you see? Visit the ' +\n",
              "          '<a target=\"_blank\" href=https://colab.research.google.com/notebooks/data_table.ipynb>data table notebook</a>'\n",
              "          + ' to learn more about interactive tables.';\n",
              "        element.innerHTML = '';\n",
              "        dataTable['output_type'] = 'display_data';\n",
              "        await google.colab.output.renderOutput(dataTable, element);\n",
              "        const docLink = document.createElement('div');\n",
              "        docLink.innerHTML = docLinkHtml;\n",
              "        element.appendChild(docLink);\n",
              "      }\n",
              "    </script>\n",
              "  </div>\n",
              "\n",
              "\n",
              "<div id=\"df-f3a1cbf6-767e-4620-a851-482a5314bff2\">\n",
              "  <button class=\"colab-df-quickchart\" onclick=\"quickchart('df-f3a1cbf6-767e-4620-a851-482a5314bff2')\"\n",
              "            title=\"Suggest charts\"\n",
              "            style=\"display:none;\">\n",
              "\n",
              "<svg xmlns=\"http://www.w3.org/2000/svg\" height=\"24px\"viewBox=\"0 0 24 24\"\n",
              "     width=\"24px\">\n",
              "    <g>\n",
              "        <path d=\"M19 3H5c-1.1 0-2 .9-2 2v14c0 1.1.9 2 2 2h14c1.1 0 2-.9 2-2V5c0-1.1-.9-2-2-2zM9 17H7v-7h2v7zm4 0h-2V7h2v10zm4 0h-2v-4h2v4z\"/>\n",
              "    </g>\n",
              "</svg>\n",
              "  </button>\n",
              "\n",
              "<style>\n",
              "  .colab-df-quickchart {\n",
              "      --bg-color: #E8F0FE;\n",
              "      --fill-color: #1967D2;\n",
              "      --hover-bg-color: #E2EBFA;\n",
              "      --hover-fill-color: #174EA6;\n",
              "      --disabled-fill-color: #AAA;\n",
              "      --disabled-bg-color: #DDD;\n",
              "  }\n",
              "\n",
              "  [theme=dark] .colab-df-quickchart {\n",
              "      --bg-color: #3B4455;\n",
              "      --fill-color: #D2E3FC;\n",
              "      --hover-bg-color: #434B5C;\n",
              "      --hover-fill-color: #FFFFFF;\n",
              "      --disabled-bg-color: #3B4455;\n",
              "      --disabled-fill-color: #666;\n",
              "  }\n",
              "\n",
              "  .colab-df-quickchart {\n",
              "    background-color: var(--bg-color);\n",
              "    border: none;\n",
              "    border-radius: 50%;\n",
              "    cursor: pointer;\n",
              "    display: none;\n",
              "    fill: var(--fill-color);\n",
              "    height: 32px;\n",
              "    padding: 0;\n",
              "    width: 32px;\n",
              "  }\n",
              "\n",
              "  .colab-df-quickchart:hover {\n",
              "    background-color: var(--hover-bg-color);\n",
              "    box-shadow: 0 1px 2px rgba(60, 64, 67, 0.3), 0 1px 3px 1px rgba(60, 64, 67, 0.15);\n",
              "    fill: var(--button-hover-fill-color);\n",
              "  }\n",
              "\n",
              "  .colab-df-quickchart-complete:disabled,\n",
              "  .colab-df-quickchart-complete:disabled:hover {\n",
              "    background-color: var(--disabled-bg-color);\n",
              "    fill: var(--disabled-fill-color);\n",
              "    box-shadow: none;\n",
              "  }\n",
              "\n",
              "  .colab-df-spinner {\n",
              "    border: 2px solid var(--fill-color);\n",
              "    border-color: transparent;\n",
              "    border-bottom-color: var(--fill-color);\n",
              "    animation:\n",
              "      spin 1s steps(1) infinite;\n",
              "  }\n",
              "\n",
              "  @keyframes spin {\n",
              "    0% {\n",
              "      border-color: transparent;\n",
              "      border-bottom-color: var(--fill-color);\n",
              "      border-left-color: var(--fill-color);\n",
              "    }\n",
              "    20% {\n",
              "      border-color: transparent;\n",
              "      border-left-color: var(--fill-color);\n",
              "      border-top-color: var(--fill-color);\n",
              "    }\n",
              "    30% {\n",
              "      border-color: transparent;\n",
              "      border-left-color: var(--fill-color);\n",
              "      border-top-color: var(--fill-color);\n",
              "      border-right-color: var(--fill-color);\n",
              "    }\n",
              "    40% {\n",
              "      border-color: transparent;\n",
              "      border-right-color: var(--fill-color);\n",
              "      border-top-color: var(--fill-color);\n",
              "    }\n",
              "    60% {\n",
              "      border-color: transparent;\n",
              "      border-right-color: var(--fill-color);\n",
              "    }\n",
              "    80% {\n",
              "      border-color: transparent;\n",
              "      border-right-color: var(--fill-color);\n",
              "      border-bottom-color: var(--fill-color);\n",
              "    }\n",
              "    90% {\n",
              "      border-color: transparent;\n",
              "      border-bottom-color: var(--fill-color);\n",
              "    }\n",
              "  }\n",
              "</style>\n",
              "\n",
              "  <script>\n",
              "    async function quickchart(key) {\n",
              "      const quickchartButtonEl =\n",
              "        document.querySelector('#' + key + ' button');\n",
              "      quickchartButtonEl.disabled = true;  // To prevent multiple clicks.\n",
              "      quickchartButtonEl.classList.add('colab-df-spinner');\n",
              "      try {\n",
              "        const charts = await google.colab.kernel.invokeFunction(\n",
              "            'suggestCharts', [key], {});\n",
              "      } catch (error) {\n",
              "        console.error('Error during call to suggestCharts:', error);\n",
              "      }\n",
              "      quickchartButtonEl.classList.remove('colab-df-spinner');\n",
              "      quickchartButtonEl.classList.add('colab-df-quickchart-complete');\n",
              "    }\n",
              "    (() => {\n",
              "      let quickchartButtonEl =\n",
              "        document.querySelector('#df-f3a1cbf6-767e-4620-a851-482a5314bff2 button');\n",
              "      quickchartButtonEl.style.display =\n",
              "        google.colab.kernel.accessAllowed ? 'block' : 'none';\n",
              "    })();\n",
              "  </script>\n",
              "</div>\n",
              "\n",
              "    </div>\n",
              "  </div>\n"
            ],
            "application/vnd.google.colaboratory.intrinsic+json": {
              "type": "dataframe",
              "summary": "{\n  \"name\": \"cm_pandas\",\n  \"rows\": 2,\n  \"fields\": [\n    {\n      \"column\": \"label\",\n      \"properties\": {\n        \"dtype\": \"number\",\n        \"std\": 0.7071067811865476,\n        \"min\": 0.0,\n        \"max\": 1.0,\n        \"num_unique_values\": 2,\n        \"samples\": [\n          1.0,\n          0.0\n        ],\n        \"semantic_type\": \"\",\n        \"description\": \"\"\n      }\n    },\n    {\n      \"column\": 0.0,\n      \"properties\": {\n        \"dtype\": \"number\",\n        \"std\": 19502,\n        \"min\": 1324,\n        \"max\": 28905,\n        \"num_unique_values\": 2,\n        \"samples\": [\n          1324,\n          28905\n        ],\n        \"semantic_type\": \"\",\n        \"description\": \"\"\n      }\n    },\n    {\n      \"column\": 1.0,\n      \"properties\": {\n        \"dtype\": \"number\",\n        \"std\": 82348,\n        \"min\": 458,\n        \"max\": 116916,\n        \"num_unique_values\": 2,\n        \"samples\": [\n          116916,\n          458\n        ],\n        \"semantic_type\": \"\",\n        \"description\": \"\"\n      }\n    }\n  ]\n}"
            }
          },
          "metadata": {},
          "execution_count": 25
        }
      ]
    },
    {
      "cell_type": "markdown",
      "source": [
        "\n",
        "Additional Performance metrics"
      ],
      "metadata": {
        "id": "_TYZXt1USvxx"
      }
    },
    {
      "cell_type": "code",
      "source": [
        "tp = lr_predictions_test[(lr_predictions_test.label == 1) & (lr_predictions_test.prediction == 1)].count()\n",
        "fp = lr_predictions_test[(lr_predictions_test.label == 0) & (lr_predictions_test.prediction == 1)].count()\n",
        "fn = lr_predictions_test[(lr_predictions_test.label == 1) & (lr_predictions_test.prediction == 0)].count()\n",
        "tn = lr_predictions_test[(lr_predictions_test.label == 0) & (lr_predictions_test.prediction == 0)].count()"
      ],
      "metadata": {
        "id": "7DeKhTJpSyCJ"
      },
      "execution_count": 26,
      "outputs": []
    },
    {
      "cell_type": "code",
      "source": [
        "accuracy = (tp + tn) / (tp + fp + fn + tn)\n",
        "precision = tp / (tp + fp)\n",
        "recall = tp / (tp + fn)\n",
        "f1 = 2 * (precision * recall) / (precision + recall)\n",
        "\n",
        "print('accuracy: ', round(accuracy, 4) * 100)\n",
        "print('precision: ', round(precision, 4) * 100)\n",
        "print('recall: ', round(recall, 4) * 100)\n",
        "print('f1 score: ', round(f1, 4) * 100)"
      ],
      "metadata": {
        "colab": {
          "base_uri": "https://localhost:8080/"
        },
        "id": "01Jf31MkS0Jd",
        "outputId": "adaf7082-c2d7-4d07-b3e1-7f93643eb40b"
      },
      "execution_count": 27,
      "outputs": [
        {
          "output_type": "stream",
          "name": "stdout",
          "text": [
            "accuracy:  98.79\n",
            "precision:  99.61\n",
            "recall:  98.88\n",
            "f1 score:  99.24\n"
          ]
        }
      ]
    },
    {
      "cell_type": "code",
      "source": [
        "!jupyter nbconvert /content/Logistic_Regression_PySpark_ML.ipynb --to html"
      ],
      "metadata": {
        "colab": {
          "base_uri": "https://localhost:8080/"
        },
        "id": "I8o5f60_ag9t",
        "outputId": "f10f46cc-2db2-463c-b383-131bdc7205a2"
      },
      "execution_count": 33,
      "outputs": [
        {
          "output_type": "stream",
          "name": "stdout",
          "text": [
            "[NbConvertApp] Converting notebook /content/Logistic_Regression_PySpark_ML.ipynb to html\n",
            "[NbConvertApp] Writing 367388 bytes to /content/Logistic_Regression_PySpark_ML.html\n"
          ]
        }
      ]
    }
  ]
}